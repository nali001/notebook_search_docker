{
 "cells": [
  {
   "attachments": {},
   "cell_type": "markdown",
   "metadata": {},
   "source": [
    "# Build faiss indexes for code\n",
    "Ref: https://github.com/deepset-ai/haystack-tutorials/blob/main/tutorials/06_Better_Retrieval_via_Embedding_Retrieval.ipynb\n",
    "\n",
    "Ref: https://docs.haystack.deepset.ai/docs/retriever#documentstore-compatibility"
   ]
  },
  {
   "cell_type": "code",
   "execution_count": 1,
   "metadata": {},
   "outputs": [],
   "source": [
    "import os"
   ]
  },
  {
   "cell_type": "code",
   "execution_count": 2,
   "metadata": {},
   "outputs": [],
   "source": [
    "CODE_DIR = '../data/code/ast_analysis'\n",
    "CODE_FILE = '../preprocessed_data/codes.json'\n",
    "FAISS_INDEX_DIR = './code_faiss_indexes_512'\n",
    "FAISS_DB_DIR = './code_faiss_db_512'\n",
    "\n",
    "os.makedirs(FAISS_DB_DIR, exist_ok=True)\n",
    "os.makedirs(FAISS_INDEX_DIR, exist_ok=True)"
   ]
  },
  {
   "cell_type": "code",
   "execution_count": 3,
   "metadata": {},
   "outputs": [],
   "source": [
    "EMBEDDING_MODELS = [(\"model1\", \"microsoft/codebert-base\"), \n",
    "                    (\"model2\", \"flax-sentence-embeddings/st-codesearch-distilroberta-base\"), \n",
    "                    (\"model3\", \"sentence-transformers/multi-qa-mpnet-base-dot-v1\"),\n",
    "                    (\"model4\", \"sentence-transformers/all-mpnet-base-v2\")]"
   ]
  },
  {
   "attachments": {},
   "cell_type": "markdown",
   "metadata": {},
   "source": [
    "## Code preprocessing\n",
    "- Transform the JSON file to input form\n",
    "- Convert JSON to `document`\n",
    "- Split the documents to passages\n",
    "- Index the passages to `document_store`"
   ]
  },
  {
   "cell_type": "code",
   "execution_count": 4,
   "metadata": {},
   "outputs": [
    {
     "data": {
      "text/plain": [
       "3787"
      ]
     },
     "execution_count": 4,
     "metadata": {},
     "output_type": "execute_result"
    }
   ],
   "source": [
    "import json \n",
    "\n",
    "# Set the path to the directory containing the input JSON files\n",
    "input_dir = CODE_DIR\n",
    "\n",
    "# Set the path to the output JSON file\n",
    "output_file = CODE_FILE\n",
    "\n",
    "# Loop through the input JSON files and extract relevant information to a new JSON file\n",
    "data = []\n",
    "for filename in os.listdir(input_dir):\n",
    "    if filename.endswith(\".json\"):\n",
    "        code_path = os.path.join(input_dir, filename)\n",
    "        with open(code_path, \"r\") as f:\n",
    "            code_data = json.load(f)\n",
    "        try: \n",
    "            data.append({\n",
    "                \"docid\": code_data[\"docid\"],\n",
    "                \"content\": code_data[\"code_clean\"],\n",
    "            })\n",
    "        except Exception as e: \n",
    "            print(filename)\n",
    "# Write the extracted data to the output JSON file\n",
    "with open(output_file, \"w\") as f:\n",
    "    json.dump(data, f)\n",
    "\n",
    "len(data)"
   ]
  },
  {
   "attachments": {},
   "cell_type": "markdown",
   "metadata": {},
   "source": [
    "## Create document store"
   ]
  },
  {
   "cell_type": "code",
   "execution_count": 5,
   "metadata": {},
   "outputs": [
    {
     "name": "stderr",
     "output_type": "stream",
     "text": [
      "/home/na/miniconda3/envs/vre/lib/python3.8/site-packages/torch/cuda/__init__.py:546: UserWarning: Can't initialize NVML\n",
      "  warnings.warn(\"Can't initialize NVML\")\n"
     ]
    },
    {
     "data": {
      "text/plain": [
       "3787"
      ]
     },
     "execution_count": 5,
     "metadata": {},
     "output_type": "execute_result"
    }
   ],
   "source": [
    "from haystack.nodes import JsonConverter\n",
    "\n",
    "converter = JsonConverter()\n",
    "docs = converter.convert(CODE_FILE)\n",
    "len(docs)"
   ]
  },
  {
   "cell_type": "code",
   "execution_count": 6,
   "metadata": {},
   "outputs": [
    {
     "data": {
      "application/vnd.jupyter.widget-view+json": {
       "model_id": "0f0f26064866460f88891eac9acbc27b",
       "version_major": 2,
       "version_minor": 0
      },
      "text/plain": [
       "Preprocessing:   0%|          | 0/3787 [00:00<?, ?docs/s]"
      ]
     },
     "metadata": {},
     "output_type": "display_data"
    },
    {
     "name": "stderr",
     "output_type": "stream",
     "text": [
      "We found one or more sentences whose word count is higher than the split length.\n",
      "Document 1336ab1e1938214aa2dd50232dae172d is 17190 characters long after preprocessing, where the maximum length should be 10000. Something might be wrong with the splitting, check the document affected to prevent issues at query time.\n",
      "Document fa0c780fa6065cd7a7129ef2238097d is 11487 characters long after preprocessing, where the maximum length should be 10000. Something might be wrong with the splitting, check the document affected to prevent issues at query time.\n",
      "Document b11ba5ce51b4cc26c01e7219e69d6a29 is 43727 characters long after preprocessing, where the maximum length should be 10000. Something might be wrong with the splitting, check the document affected to prevent issues at query time.\n",
      "Document f5f5d1c8ea591ce103fc346bc2e04080 is 35611 characters long after preprocessing, where the maximum length should be 10000. Something might be wrong with the splitting, check the document affected to prevent issues at query time.\n",
      "Document 7687515aeeec0da93eb71d0489d0baf1 is 13346 characters long after preprocessing, where the maximum length should be 10000. Something might be wrong with the splitting, check the document affected to prevent issues at query time.\n",
      "Document 538ce707b97d7e61f762fce5d487bbdf is 18351 characters long after preprocessing, where the maximum length should be 10000. Something might be wrong with the splitting, check the document affected to prevent issues at query time.\n",
      "Document 1d557d8ecfc4904a73db372ec68fba60 is 14066 characters long after preprocessing, where the maximum length should be 10000. Something might be wrong with the splitting, check the document affected to prevent issues at query time.\n",
      "Document 7ca0378d6d162155d9ba85a9cf8e1208 is 13858 characters long after preprocessing, where the maximum length should be 10000. Something might be wrong with the splitting, check the document affected to prevent issues at query time.\n",
      "Document 51b7d9923494e8df825e53da8f07bc83 is 10752 characters long after preprocessing, where the maximum length should be 10000. Something might be wrong with the splitting, check the document affected to prevent issues at query time.\n",
      "Document 3dc12443f0190b1e4910966ddc60c14f is 11824 characters long after preprocessing, where the maximum length should be 10000. Something might be wrong with the splitting, check the document affected to prevent issues at query time.\n",
      "Document 43cd824cb060501c386f17d79b4b8c6a is 31103 characters long after preprocessing, where the maximum length should be 10000. Something might be wrong with the splitting, check the document affected to prevent issues at query time.\n",
      "Document b7d7a12c73c13dc7d95165e8177bef47 is 11178 characters long after preprocessing, where the maximum length should be 10000. Something might be wrong with the splitting, check the document affected to prevent issues at query time.\n",
      "Document 924b73acc2ba09da0f07ef1c6c06c8a7 is 21746 characters long after preprocessing, where the maximum length should be 10000. Something might be wrong with the splitting, check the document affected to prevent issues at query time.\n",
      "Document 72321e4f48c36bbfacbb5ce6a6eb7efc is 11190 characters long after preprocessing, where the maximum length should be 10000. Something might be wrong with the splitting, check the document affected to prevent issues at query time.\n",
      "Document b554619c88cbe4666beebbed126cffe is 15720 characters long after preprocessing, where the maximum length should be 10000. Something might be wrong with the splitting, check the document affected to prevent issues at query time.\n",
      "Document 5461219426a514609f5da84b5a3205a3 is 20709 characters long after preprocessing, where the maximum length should be 10000. Something might be wrong with the splitting, check the document affected to prevent issues at query time.\n",
      "Document 900656cc767e9e9280970a2109873ebc is 37482 characters long after preprocessing, where the maximum length should be 10000. Something might be wrong with the splitting, check the document affected to prevent issues at query time.\n",
      "Document 7f9ce71c4ac581dff2f7247fa189c1fa is 24350 characters long after preprocessing, where the maximum length should be 10000. Something might be wrong with the splitting, check the document affected to prevent issues at query time.\n",
      "Document 6829644cc783654de40a83dd78b4ade9 is 12416 characters long after preprocessing, where the maximum length should be 10000. Something might be wrong with the splitting, check the document affected to prevent issues at query time.\n",
      "Document cdd85dd5fd6feecc32acba0545a58fb9 is 12132 characters long after preprocessing, where the maximum length should be 10000. Something might be wrong with the splitting, check the document affected to prevent issues at query time.\n",
      "Document 83ce10da9c3bd72ce6ae8554e5ff1cb2 is 23105 characters long after preprocessing, where the maximum length should be 10000. Something might be wrong with the splitting, check the document affected to prevent issues at query time.\n",
      "Document 69283a4b015907a8d82090cc018275fb is 25947 characters long after preprocessing, where the maximum length should be 10000. Something might be wrong with the splitting, check the document affected to prevent issues at query time.\n",
      "Document 98938e2f143845e239443991413d4620 is 10963 characters long after preprocessing, where the maximum length should be 10000. Something might be wrong with the splitting, check the document affected to prevent issues at query time.\n",
      "Document 99bc125b17f94f0985be9616a7f699ff is 12483 characters long after preprocessing, where the maximum length should be 10000. Something might be wrong with the splitting, check the document affected to prevent issues at query time.\n",
      "Document ad147bd94caba14124ff0577ef7b712d is 14931 characters long after preprocessing, where the maximum length should be 10000. Something might be wrong with the splitting, check the document affected to prevent issues at query time.\n",
      "Document f12a2c712825918fb73cbbf43fdf71a0 is 32751 characters long after preprocessing, where the maximum length should be 10000. Something might be wrong with the splitting, check the document affected to prevent issues at query time.\n",
      "Document f457634123810c7cbda54b64ad5646f4 is 11569 characters long after preprocessing, where the maximum length should be 10000. Something might be wrong with the splitting, check the document affected to prevent issues at query time.\n",
      "Document ba4e90417629ca9fd60717d4f5e9c443 is 13297 characters long after preprocessing, where the maximum length should be 10000. Something might be wrong with the splitting, check the document affected to prevent issues at query time.\n",
      "Document 8a612f0e87f55951a2ebb5696a06b268 is 10497 characters long after preprocessing, where the maximum length should be 10000. Something might be wrong with the splitting, check the document affected to prevent issues at query time.\n",
      "Document cfd8fb751121cb592d2ba4be97e2e364 is 10026 characters long after preprocessing, where the maximum length should be 10000. Something might be wrong with the splitting, check the document affected to prevent issues at query time.\n",
      "Document 9093cfba535c54e71347edffaf0620ef is 16455 characters long after preprocessing, where the maximum length should be 10000. Something might be wrong with the splitting, check the document affected to prevent issues at query time.\n",
      "Document ece9b6572c01b621d4c7761602bd8d21 is 33756 characters long after preprocessing, where the maximum length should be 10000. Something might be wrong with the splitting, check the document affected to prevent issues at query time.\n",
      "Document aaa16af2aadf31b01625775da6d33363 is 23450 characters long after preprocessing, where the maximum length should be 10000. Something might be wrong with the splitting, check the document affected to prevent issues at query time.\n",
      "Document ae79ef1bc48951b1d104c39b93cf6942 is 34289 characters long after preprocessing, where the maximum length should be 10000. Something might be wrong with the splitting, check the document affected to prevent issues at query time.\n",
      "Document 4799cc10662b6d5164a0743140cc9fec is 22482 characters long after preprocessing, where the maximum length should be 10000. Something might be wrong with the splitting, check the document affected to prevent issues at query time.\n",
      "Document 74cb18d87684220d62c97032858aebef is 10426 characters long after preprocessing, where the maximum length should be 10000. Something might be wrong with the splitting, check the document affected to prevent issues at query time.\n",
      "Document f355cfd657e1e304b502a9ee3a16fac3 is 15042 characters long after preprocessing, where the maximum length should be 10000. Something might be wrong with the splitting, check the document affected to prevent issues at query time.\n",
      "Document 89109ca25d604586dba82234d48aa6a2 is 17869 characters long after preprocessing, where the maximum length should be 10000. Something might be wrong with the splitting, check the document affected to prevent issues at query time.\n",
      "Document 4b112c2498b7c136bf390f5231fdf3eb is 13575 characters long after preprocessing, where the maximum length should be 10000. Something might be wrong with the splitting, check the document affected to prevent issues at query time.\n",
      "Document 4b91e0c06c3c9c2b747a5d2095c5e3c7 is 19567 characters long after preprocessing, where the maximum length should be 10000. Something might be wrong with the splitting, check the document affected to prevent issues at query time.\n",
      "Document d7fb667cacfb878aab6d4ba6b2c45c is 36962 characters long after preprocessing, where the maximum length should be 10000. Something might be wrong with the splitting, check the document affected to prevent issues at query time.\n",
      "Document 68ff67563ad55ec38dd430bd6ac177b0 is 17020 characters long after preprocessing, where the maximum length should be 10000. Something might be wrong with the splitting, check the document affected to prevent issues at query time.\n",
      "Document a653ae0b13ab6a32f51e80ac35995cc0 is 17537 characters long after preprocessing, where the maximum length should be 10000. Something might be wrong with the splitting, check the document affected to prevent issues at query time.\n",
      "Document a84034568e8e7feb058453be91f30821 is 11112 characters long after preprocessing, where the maximum length should be 10000. Something might be wrong with the splitting, check the document affected to prevent issues at query time.\n",
      "Document df50b4d051d590ba3b3236ed1c1391c3 is 13242 characters long after preprocessing, where the maximum length should be 10000. Something might be wrong with the splitting, check the document affected to prevent issues at query time.\n",
      "Document 6842a672f569075695a2ac316cce4de9 is 10290 characters long after preprocessing, where the maximum length should be 10000. Something might be wrong with the splitting, check the document affected to prevent issues at query time.\n",
      "Document 427f302d4d0669133b3f67126b97dc61 is 15603 characters long after preprocessing, where the maximum length should be 10000. Something might be wrong with the splitting, check the document affected to prevent issues at query time.\n",
      "Document 1f94ea0e658cdbbf8a0147bb7f0f018e is 22356 characters long after preprocessing, where the maximum length should be 10000. Something might be wrong with the splitting, check the document affected to prevent issues at query time.\n",
      "Document b1a518ffa795d64d2d275fab60ae12d1 is 11878 characters long after preprocessing, where the maximum length should be 10000. Something might be wrong with the splitting, check the document affected to prevent issues at query time.\n",
      "Document ea017b1150362cad7156e3645b75c592 is 13846 characters long after preprocessing, where the maximum length should be 10000. Something might be wrong with the splitting, check the document affected to prevent issues at query time.\n",
      "Document eeb7e8796e85b2c9a40c06486dc7ce6e is 13859 characters long after preprocessing, where the maximum length should be 10000. Something might be wrong with the splitting, check the document affected to prevent issues at query time.\n",
      "Document e1cc9f35229d152cc5ce7ee178f92464 is 12660 characters long after preprocessing, where the maximum length should be 10000. Something might be wrong with the splitting, check the document affected to prevent issues at query time.\n",
      "Document d358f4745b681be2804ba3be6a37cc99 is 13712 characters long after preprocessing, where the maximum length should be 10000. Something might be wrong with the splitting, check the document affected to prevent issues at query time.\n",
      "Document a668a8caf0e8d67c2bfce279c5841286 is 10027 characters long after preprocessing, where the maximum length should be 10000. Something might be wrong with the splitting, check the document affected to prevent issues at query time.\n",
      "Document 99c0460ee9bbc7c80e7c5caafb5e864f is 10246 characters long after preprocessing, where the maximum length should be 10000. Something might be wrong with the splitting, check the document affected to prevent issues at query time.\n",
      "Document 42ce7ef56b6f30586bcbaa232bb3cf3b is 44431 characters long after preprocessing, where the maximum length should be 10000. Something might be wrong with the splitting, check the document affected to prevent issues at query time.\n",
      "Document d3acca2c0c51c2aef3b8124f640f3202 is 13001 characters long after preprocessing, where the maximum length should be 10000. Something might be wrong with the splitting, check the document affected to prevent issues at query time.\n",
      "Document bca6894d2884dee200ca7d0733763ace is 10218 characters long after preprocessing, where the maximum length should be 10000. Something might be wrong with the splitting, check the document affected to prevent issues at query time.\n",
      "Document 6ff72bdbe6fcc77bc7fcc4813ad0c662 is 10903 characters long after preprocessing, where the maximum length should be 10000. Something might be wrong with the splitting, check the document affected to prevent issues at query time.\n",
      "Document 35ce820fbcb55e58b5865c8e1c8f3e52 is 35992 characters long after preprocessing, where the maximum length should be 10000. Something might be wrong with the splitting, check the document affected to prevent issues at query time.\n",
      "Document c7fe22f3c4f40728de9ffce74e473223 is 11013 characters long after preprocessing, where the maximum length should be 10000. Something might be wrong with the splitting, check the document affected to prevent issues at query time.\n",
      "Document f3eb4c3f11149a69f89fa0e40a49e5e9 is 10995 characters long after preprocessing, where the maximum length should be 10000. Something might be wrong with the splitting, check the document affected to prevent issues at query time.\n",
      "Document bc2b348fd279f99281ce7ce9b8bc2ea2 is 10464 characters long after preprocessing, where the maximum length should be 10000. Something might be wrong with the splitting, check the document affected to prevent issues at query time.\n",
      "Document e3c482ddefb6bb9f517b25b06d4f0021 is 14847 characters long after preprocessing, where the maximum length should be 10000. Something might be wrong with the splitting, check the document affected to prevent issues at query time.\n",
      "Document 2638d43859e4f69ea54cd650f4354c21 is 11234 characters long after preprocessing, where the maximum length should be 10000. Something might be wrong with the splitting, check the document affected to prevent issues at query time.\n",
      "Document 6079548f95f2851a59194c8acbe2c19f is 14279 characters long after preprocessing, where the maximum length should be 10000. Something might be wrong with the splitting, check the document affected to prevent issues at query time.\n",
      "Document f8fb9f7346296f4c8fb376b07e2e501d is 23569 characters long after preprocessing, where the maximum length should be 10000. Something might be wrong with the splitting, check the document affected to prevent issues at query time.\n",
      "Document 447eb310a75140e659f6164f764f7196 is 10190 characters long after preprocessing, where the maximum length should be 10000. Something might be wrong with the splitting, check the document affected to prevent issues at query time.\n",
      "Document fc29873ffa238f23442b844f0e12e74b is 14245 characters long after preprocessing, where the maximum length should be 10000. Something might be wrong with the splitting, check the document affected to prevent issues at query time.\n",
      "Document 1762f58626cbdf2685becd084ee8148c is 13246 characters long after preprocessing, where the maximum length should be 10000. Something might be wrong with the splitting, check the document affected to prevent issues at query time.\n",
      "Document 5018f8885c5ba3250149fe4c2f661742 is 13181 characters long after preprocessing, where the maximum length should be 10000. Something might be wrong with the splitting, check the document affected to prevent issues at query time.\n",
      "Document 79e2cc0e798de0af6f8abea82c10c37b is 20430 characters long after preprocessing, where the maximum length should be 10000. Something might be wrong with the splitting, check the document affected to prevent issues at query time.\n",
      "Document 9dd16e6cfd957da2db0c2878b54c009c is 11240 characters long after preprocessing, where the maximum length should be 10000. Something might be wrong with the splitting, check the document affected to prevent issues at query time.\n",
      "Document 762e9174f0878c88a50352bc92be2468 is 13529 characters long after preprocessing, where the maximum length should be 10000. Something might be wrong with the splitting, check the document affected to prevent issues at query time.\n",
      "Document f2380405616a4837a4536b2c40b2236c is 29468 characters long after preprocessing, where the maximum length should be 10000. Something might be wrong with the splitting, check the document affected to prevent issues at query time.\n",
      "Document c1bd5ecaf2379b2c973a37dc20510b7d is 11471 characters long after preprocessing, where the maximum length should be 10000. Something might be wrong with the splitting, check the document affected to prevent issues at query time.\n",
      "Document 4742aa69587ae8b8ac412b8adf8d8e4f is 99721 characters long after preprocessing, where the maximum length should be 10000. Something might be wrong with the splitting, check the document affected to prevent issues at query time.\n",
      "Document d04ad9847889d238428675d296b5c5c4 is 14238 characters long after preprocessing, where the maximum length should be 10000. Something might be wrong with the splitting, check the document affected to prevent issues at query time.\n",
      "Document 786b2e9941b727c5f810e933edbdf0a6 is 19988 characters long after preprocessing, where the maximum length should be 10000. Something might be wrong with the splitting, check the document affected to prevent issues at query time.\n",
      "Document d3fb5a322f6787df8d06612e9b71d476 is 41639 characters long after preprocessing, where the maximum length should be 10000. Something might be wrong with the splitting, check the document affected to prevent issues at query time.\n",
      "Document b616126be748673cc00795afed34576c is 12495 characters long after preprocessing, where the maximum length should be 10000. Something might be wrong with the splitting, check the document affected to prevent issues at query time.\n",
      "Document 4742aa69587ae8b8ac412b8adf8d8e4f is 99721 characters long after preprocessing, where the maximum length should be 10000. Something might be wrong with the splitting, check the document affected to prevent issues at query time.\n",
      "Document a62c7d4162ab4a4b211b5930d2a56d42 is 12013 characters long after preprocessing, where the maximum length should be 10000. Something might be wrong with the splitting, check the document affected to prevent issues at query time.\n",
      "Document 9c168f1a4a0ebb93c42e1edb36b63577 is 11837 characters long after preprocessing, where the maximum length should be 10000. Something might be wrong with the splitting, check the document affected to prevent issues at query time.\n",
      "Document 1d9455d03e6cffd80f506b37185805be is 11411 characters long after preprocessing, where the maximum length should be 10000. Something might be wrong with the splitting, check the document affected to prevent issues at query time.\n",
      "Document 1c09a4c5253396b2d594deae903bb0fb is 30337 characters long after preprocessing, where the maximum length should be 10000. Something might be wrong with the splitting, check the document affected to prevent issues at query time.\n",
      "Document 99f5d0989e136d4cde487fa346dd855b is 14541 characters long after preprocessing, where the maximum length should be 10000. Something might be wrong with the splitting, check the document affected to prevent issues at query time.\n",
      "Document aac9ad5536043ebdf2ff842edff9aa6a is 14929 characters long after preprocessing, where the maximum length should be 10000. Something might be wrong with the splitting, check the document affected to prevent issues at query time.\n",
      "Document 9e57221c3aef32ccc61273f514b9c38f is 10309 characters long after preprocessing, where the maximum length should be 10000. Something might be wrong with the splitting, check the document affected to prevent issues at query time.\n",
      "Document 4328c38c2745fa80ac1e4f5e1cb324a6 is 15575 characters long after preprocessing, where the maximum length should be 10000. Something might be wrong with the splitting, check the document affected to prevent issues at query time.\n",
      "Document 5461219426a514609f5da84b5a3205a3 is 20709 characters long after preprocessing, where the maximum length should be 10000. Something might be wrong with the splitting, check the document affected to prevent issues at query time.\n",
      "Document 9ad6e0482ac4586e689c186314563c9d is 37183 characters long after preprocessing, where the maximum length should be 10000. Something might be wrong with the splitting, check the document affected to prevent issues at query time.\n",
      "Document 7f9ce71c4ac581dff2f7247fa189c1fa is 24350 characters long after preprocessing, where the maximum length should be 10000. Something might be wrong with the splitting, check the document affected to prevent issues at query time.\n",
      "Document b691e2b085d231b2e0e626c15e416808 is 89569 characters long after preprocessing, where the maximum length should be 10000. Something might be wrong with the splitting, check the document affected to prevent issues at query time.\n",
      "Document d832a2c83a23c715f5d2474df1906eee is 10413 characters long after preprocessing, where the maximum length should be 10000. Something might be wrong with the splitting, check the document affected to prevent issues at query time.\n",
      "Document a5b643c0abeacb811191e33d0ae3d0f7 is 17813 characters long after preprocessing, where the maximum length should be 10000. Something might be wrong with the splitting, check the document affected to prevent issues at query time.\n",
      "Document 744f3047da66f2a2c55d6480d64b0841 is 10667 characters long after preprocessing, where the maximum length should be 10000. Something might be wrong with the splitting, check the document affected to prevent issues at query time.\n",
      "Document a2e4af4939b10b939827a58ea5fff8f1 is 14692 characters long after preprocessing, where the maximum length should be 10000. Something might be wrong with the splitting, check the document affected to prevent issues at query time.\n",
      "Document 3a180dddf281b760fa18f424383fac89 is 47922 characters long after preprocessing, where the maximum length should be 10000. Something might be wrong with the splitting, check the document affected to prevent issues at query time.\n",
      "Document c6eaba3b8646afcbee041bd749bac31a is 36549 characters long after preprocessing, where the maximum length should be 10000. Something might be wrong with the splitting, check the document affected to prevent issues at query time.\n",
      "Document 48c9d8bd4b346e4f69d450f9e85076e4 is 20489 characters long after preprocessing, where the maximum length should be 10000. Something might be wrong with the splitting, check the document affected to prevent issues at query time.\n",
      "Document cddc36cc90ae28ec292e3a7b6b4e1ac9 is 10894 characters long after preprocessing, where the maximum length should be 10000. Something might be wrong with the splitting, check the document affected to prevent issues at query time.\n",
      "Document 98db15ac6874745298fb11a26d44a052 is 12779 characters long after preprocessing, where the maximum length should be 10000. Something might be wrong with the splitting, check the document affected to prevent issues at query time.\n",
      "Document 30b8b7eafbdd9d5b4e9ea47e39b5e88c is 11668 characters long after preprocessing, where the maximum length should be 10000. Something might be wrong with the splitting, check the document affected to prevent issues at query time.\n",
      "Document 9a0f60fd9494285ba4197817ecb220a4 is 15106 characters long after preprocessing, where the maximum length should be 10000. Something might be wrong with the splitting, check the document affected to prevent issues at query time.\n",
      "Document cab91fe9bc67d0c141894241a97cfd24 is 15480 characters long after preprocessing, where the maximum length should be 10000. Something might be wrong with the splitting, check the document affected to prevent issues at query time.\n",
      "Document 779e2d9d303b152f3ceff3fd80675bf7 is 14043 characters long after preprocessing, where the maximum length should be 10000. Something might be wrong with the splitting, check the document affected to prevent issues at query time.\n",
      "Document f41150d78b17a6c9e7897a7feee26a72 is 11981 characters long after preprocessing, where the maximum length should be 10000. Something might be wrong with the splitting, check the document affected to prevent issues at query time.\n",
      "Document 1e977a73960c595b669b08955c96fcd5 is 10354 characters long after preprocessing, where the maximum length should be 10000. Something might be wrong with the splitting, check the document affected to prevent issues at query time.\n",
      "Document d4e66af24ab599a10ce5dc3ceaf5c1a4 is 10948 characters long after preprocessing, where the maximum length should be 10000. Something might be wrong with the splitting, check the document affected to prevent issues at query time.\n",
      "Document 1015fd2eef7dc242565794e1690390e2 is 23297 characters long after preprocessing, where the maximum length should be 10000. Something might be wrong with the splitting, check the document affected to prevent issues at query time.\n",
      "Document b531c0e1c98884cbb673c1adbf77a2ab is 20412 characters long after preprocessing, where the maximum length should be 10000. Something might be wrong with the splitting, check the document affected to prevent issues at query time.\n",
      "Document 615ce58138b62fefd58a3177a7803df2 is 20767 characters long after preprocessing, where the maximum length should be 10000. Something might be wrong with the splitting, check the document affected to prevent issues at query time.\n",
      "Document 9253a0db73df9b4d4b618472ad8a27ce is 11157 characters long after preprocessing, where the maximum length should be 10000. Something might be wrong with the splitting, check the document affected to prevent issues at query time.\n",
      "Document 7b4a9c6f1321cbf34c74995837dde9 is 13744 characters long after preprocessing, where the maximum length should be 10000. Something might be wrong with the splitting, check the document affected to prevent issues at query time.\n",
      "Document 84918f592677ed64fa7fff522417a2e1 is 11756 characters long after preprocessing, where the maximum length should be 10000. Something might be wrong with the splitting, check the document affected to prevent issues at query time.\n",
      "Document f7acb1d79495772521a61c6820435e06 is 10508 characters long after preprocessing, where the maximum length should be 10000. Something might be wrong with the splitting, check the document affected to prevent issues at query time.\n",
      "Document 97eeaa57a06913941dd52c27b4f903c1 is 24611 characters long after preprocessing, where the maximum length should be 10000. Something might be wrong with the splitting, check the document affected to prevent issues at query time.\n",
      "Document d5ae4c59486ce332b26568113bacb454 is 36201 characters long after preprocessing, where the maximum length should be 10000. Something might be wrong with the splitting, check the document affected to prevent issues at query time.\n",
      "Document ba7279def077d9ee34ad13e68f27d055 is 15000 characters long after preprocessing, where the maximum length should be 10000. Something might be wrong with the splitting, check the document affected to prevent issues at query time.\n",
      "Document a2ab2cc7f82005e9d330e946767e73f5 is 13405 characters long after preprocessing, where the maximum length should be 10000. Something might be wrong with the splitting, check the document affected to prevent issues at query time.\n",
      "Document 7df2b57bab94e5981f6cdf87b2926d23 is 15846 characters long after preprocessing, where the maximum length should be 10000. Something might be wrong with the splitting, check the document affected to prevent issues at query time.\n",
      "Document ba2aa5204f40c07809716c362da0692b is 19842 characters long after preprocessing, where the maximum length should be 10000. Something might be wrong with the splitting, check the document affected to prevent issues at query time.\n",
      "Document 38e183cd246605e2599a7ce8905fd3b2 is 12109 characters long after preprocessing, where the maximum length should be 10000. Something might be wrong with the splitting, check the document affected to prevent issues at query time.\n",
      "Document 218226b5e699f3c39da39da9b592a6e5 is 17356 characters long after preprocessing, where the maximum length should be 10000. Something might be wrong with the splitting, check the document affected to prevent issues at query time.\n",
      "Document 3d5246bda24ead3b99ed1a431e502966 is 12274 characters long after preprocessing, where the maximum length should be 10000. Something might be wrong with the splitting, check the document affected to prevent issues at query time.\n",
      "Document 12b32998a4b4f3d44c0481713b28e922 is 16311 characters long after preprocessing, where the maximum length should be 10000. Something might be wrong with the splitting, check the document affected to prevent issues at query time.\n",
      "Document 89d411c9f4c1f42afa02c4684abfb5d9 is 17446 characters long after preprocessing, where the maximum length should be 10000. Something might be wrong with the splitting, check the document affected to prevent issues at query time.\n",
      "Document 857ce80dee4497fd7be1d584a6da7ecb is 12833 characters long after preprocessing, where the maximum length should be 10000. Something might be wrong with the splitting, check the document affected to prevent issues at query time.\n",
      "Document 99f7b2c9f3c7a4479c086ba59dbde88b is 28439 characters long after preprocessing, where the maximum length should be 10000. Something might be wrong with the splitting, check the document affected to prevent issues at query time.\n",
      "Document 6c0c4d19b118ffff223e57f6abe60430 is 15181 characters long after preprocessing, where the maximum length should be 10000. Something might be wrong with the splitting, check the document affected to prevent issues at query time.\n",
      "Document e08d7810a7685e331cf8449f0e179f02 is 13443 characters long after preprocessing, where the maximum length should be 10000. Something might be wrong with the splitting, check the document affected to prevent issues at query time.\n",
      "Document 17eb644afc811237c8b0778d988d8ce0 is 60441 characters long after preprocessing, where the maximum length should be 10000. Something might be wrong with the splitting, check the document affected to prevent issues at query time.\n",
      "Document d3b252bbbcf7a8d4541597cdfba56167 is 164632 characters long after preprocessing, where the maximum length should be 10000. Something might be wrong with the splitting, check the document affected to prevent issues at query time.\n",
      "Document 57492fe33606fc218993459504b2b5ea is 10292 characters long after preprocessing, where the maximum length should be 10000. Something might be wrong with the splitting, check the document affected to prevent issues at query time.\n",
      "Document a08c90e126d45e0d360484f85dd2a9d5 is 12764 characters long after preprocessing, where the maximum length should be 10000. Something might be wrong with the splitting, check the document affected to prevent issues at query time.\n",
      "Document 1908ea78278301a0756e9da692011260 is 12415 characters long after preprocessing, where the maximum length should be 10000. Something might be wrong with the splitting, check the document affected to prevent issues at query time.\n",
      "Document 833aba94f85bc601d911eeeb75d1a41d is 12613 characters long after preprocessing, where the maximum length should be 10000. Something might be wrong with the splitting, check the document affected to prevent issues at query time.\n",
      "Document 85575df1e2cc05bc3245d8274da1137c is 18815 characters long after preprocessing, where the maximum length should be 10000. Something might be wrong with the splitting, check the document affected to prevent issues at query time.\n",
      "Document b1bf3b6582d0a56587fe6fa8409c13a5 is 49038 characters long after preprocessing, where the maximum length should be 10000. Something might be wrong with the splitting, check the document affected to prevent issues at query time.\n",
      "Document 365ee502dd80e3dd56797478fc49b14c is 10327 characters long after preprocessing, where the maximum length should be 10000. Something might be wrong with the splitting, check the document affected to prevent issues at query time.\n",
      "Document fcf4e329d9a2f4e8f595406bc3679d4 is 194658 characters long after preprocessing, where the maximum length should be 10000. Something might be wrong with the splitting, check the document affected to prevent issues at query time.\n",
      "Document bc723a49bf3d6c640410d7e928b09331 is 10428 characters long after preprocessing, where the maximum length should be 10000. Something might be wrong with the splitting, check the document affected to prevent issues at query time.\n",
      "Document f5e582c4392195572eb532b68e35cd68 is 13716 characters long after preprocessing, where the maximum length should be 10000. Something might be wrong with the splitting, check the document affected to prevent issues at query time.\n",
      "Document 43cd824cb060501c386f17d79b4b8c6a is 31103 characters long after preprocessing, where the maximum length should be 10000. Something might be wrong with the splitting, check the document affected to prevent issues at query time.\n",
      "Document 7b5e5e6c360763215c21b9725056e4ca is 11251 characters long after preprocessing, where the maximum length should be 10000. Something might be wrong with the splitting, check the document affected to prevent issues at query time.\n",
      "Document 924b73acc2ba09da0f07ef1c6c06c8a7 is 21746 characters long after preprocessing, where the maximum length should be 10000. Something might be wrong with the splitting, check the document affected to prevent issues at query time.\n",
      "Document 72321e4f48c36bbfacbb5ce6a6eb7efc is 11190 characters long after preprocessing, where the maximum length should be 10000. Something might be wrong with the splitting, check the document affected to prevent issues at query time.\n",
      "Document e85efb14ad3c42ce20f9e47dca28e5e7 is 15575 characters long after preprocessing, where the maximum length should be 10000. Something might be wrong with the splitting, check the document affected to prevent issues at query time.\n",
      "Document 5461219426a514609f5da84b5a3205a3 is 20709 characters long after preprocessing, where the maximum length should be 10000. Something might be wrong with the splitting, check the document affected to prevent issues at query time.\n",
      "Document 900656cc767e9e9280970a2109873ebc is 37482 characters long after preprocessing, where the maximum length should be 10000. Something might be wrong with the splitting, check the document affected to prevent issues at query time.\n",
      "Document 7f9ce71c4ac581dff2f7247fa189c1fa is 24350 characters long after preprocessing, where the maximum length should be 10000. Something might be wrong with the splitting, check the document affected to prevent issues at query time.\n",
      "Document 8d74e7ea629d782177296e2e8df8f7a2 is 10055 characters long after preprocessing, where the maximum length should be 10000. Something might be wrong with the splitting, check the document affected to prevent issues at query time.\n",
      "Document 7369ec8c594ab73c9e45a40d561a59ab is 12278 characters long after preprocessing, where the maximum length should be 10000. Something might be wrong with the splitting, check the document affected to prevent issues at query time.\n",
      "Document 6dee08055090e5909a691312f547c9fb is 12612 characters long after preprocessing, where the maximum length should be 10000. Something might be wrong with the splitting, check the document affected to prevent issues at query time.\n",
      "Document 4905fdcb9c713e296f8eb4adcfdba81b is 29094 characters long after preprocessing, where the maximum length should be 10000. Something might be wrong with the splitting, check the document affected to prevent issues at query time.\n",
      "Document 89fa284e98a08dd88413ce8ce4e0c678 is 12785 characters long after preprocessing, where the maximum length should be 10000. Something might be wrong with the splitting, check the document affected to prevent issues at query time.\n",
      "Document b20b20849bf4e36af304ee87d30e67a5 is 10027 characters long after preprocessing, where the maximum length should be 10000. Something might be wrong with the splitting, check the document affected to prevent issues at query time.\n",
      "Document 249837ae6299eaf543c6210162e9d101 is 13221 characters long after preprocessing, where the maximum length should be 10000. Something might be wrong with the splitting, check the document affected to prevent issues at query time.\n",
      "Document d13fa9f438bf43d135ec4fd3bb56a536 is 24664 characters long after preprocessing, where the maximum length should be 10000. Something might be wrong with the splitting, check the document affected to prevent issues at query time.\n",
      "Document 29147be3ceaff349cf2c5f16c1b8dacd is 11180 characters long after preprocessing, where the maximum length should be 10000. Something might be wrong with the splitting, check the document affected to prevent issues at query time.\n",
      "Document a421c5ed1e767af7b4444e1c0cc83f3 is 21722 characters long after preprocessing, where the maximum length should be 10000. Something might be wrong with the splitting, check the document affected to prevent issues at query time.\n",
      "Document 3ee1067fc3bb3575629d0e0ef48f68f8 is 35369 characters long after preprocessing, where the maximum length should be 10000. Something might be wrong with the splitting, check the document affected to prevent issues at query time.\n",
      "Document 59c8cafa363dfa3800bdf4656dfaccec is 11820 characters long after preprocessing, where the maximum length should be 10000. Something might be wrong with the splitting, check the document affected to prevent issues at query time.\n",
      "Document fb3feb0d15f016cae691935dbbf77a2b is 11114 characters long after preprocessing, where the maximum length should be 10000. Something might be wrong with the splitting, check the document affected to prevent issues at query time.\n",
      "Document 1ae2a2bf9eca8aa9f246a3ef3293f119 is 11501 characters long after preprocessing, where the maximum length should be 10000. Something might be wrong with the splitting, check the document affected to prevent issues at query time.\n",
      "Document 5f9fada0d6720fda37618585520c36f4 is 13046 characters long after preprocessing, where the maximum length should be 10000. Something might be wrong with the splitting, check the document affected to prevent issues at query time.\n",
      "Document 51f76e01a5d1d9e3b98c2b40eec86aef is 10764 characters long after preprocessing, where the maximum length should be 10000. Something might be wrong with the splitting, check the document affected to prevent issues at query time.\n",
      "Document 5df30b5d0bf733965206d63c5e3ab7d4 is 132527 characters long after preprocessing, where the maximum length should be 10000. Something might be wrong with the splitting, check the document affected to prevent issues at query time.\n",
      "Document 5ea30ee3649c8274a2056ca1192a35ca is 72728 characters long after preprocessing, where the maximum length should be 10000. Something might be wrong with the splitting, check the document affected to prevent issues at query time.\n",
      "Document 81a85d4a2f46f3d22a766087668a34c6 is 12403 characters long after preprocessing, where the maximum length should be 10000. Something might be wrong with the splitting, check the document affected to prevent issues at query time.\n",
      "Document 6a96ac4dca25326f8efb9bf9792a7cb2 is 11077 characters long after preprocessing, where the maximum length should be 10000. Something might be wrong with the splitting, check the document affected to prevent issues at query time.\n",
      "Document 5400e5135b5053b2dbfee525d595ef20 is 10393 characters long after preprocessing, where the maximum length should be 10000. Something might be wrong with the splitting, check the document affected to prevent issues at query time.\n",
      "Document df50b4d051d590ba3b3236ed1c1391c3 is 13242 characters long after preprocessing, where the maximum length should be 10000. Something might be wrong with the splitting, check the document affected to prevent issues at query time.\n",
      "Document 1a107ea5ad06dde5771d75b11795d481 is 13238 characters long after preprocessing, where the maximum length should be 10000. Something might be wrong with the splitting, check the document affected to prevent issues at query time.\n",
      "Document 69bd04323d223e8cb05eab6368235bd9 is 13044 characters long after preprocessing, where the maximum length should be 10000. Something might be wrong with the splitting, check the document affected to prevent issues at query time.\n",
      "Document 5dc9f478780e9385ed692027c35af632 is 23422 characters long after preprocessing, where the maximum length should be 10000. Something might be wrong with the splitting, check the document affected to prevent issues at query time.\n",
      "Document 645202bb2284d2c93f63c2a1f3e581e8 is 10937 characters long after preprocessing, where the maximum length should be 10000. Something might be wrong with the splitting, check the document affected to prevent issues at query time.\n",
      "Document cd613e4f19106bac36464b2bf450ffbf is 15878 characters long after preprocessing, where the maximum length should be 10000. Something might be wrong with the splitting, check the document affected to prevent issues at query time.\n",
      "Document 1e64da8edf0796712527483e7a476d8f is 11640 characters long after preprocessing, where the maximum length should be 10000. Something might be wrong with the splitting, check the document affected to prevent issues at query time.\n",
      "Document 5c82e3b4fc59bfa145b736c89ae78422 is 11027 characters long after preprocessing, where the maximum length should be 10000. Something might be wrong with the splitting, check the document affected to prevent issues at query time.\n",
      "Document d3700288ebd74e93fbb4e16bcb154a34 is 15099 characters long after preprocessing, where the maximum length should be 10000. Something might be wrong with the splitting, check the document affected to prevent issues at query time.\n",
      "Document 1b075a82388032142f3c2a4d89d3ce1e is 67279 characters long after preprocessing, where the maximum length should be 10000. Something might be wrong with the splitting, check the document affected to prevent issues at query time.\n",
      "Document e82a02fe03e41fecb370e246aef7dac9 is 19898 characters long after preprocessing, where the maximum length should be 10000. Something might be wrong with the splitting, check the document affected to prevent issues at query time.\n",
      "Document da41f97a6453a2f5099dd9d89c0a3c64 is 12530 characters long after preprocessing, where the maximum length should be 10000. Something might be wrong with the splitting, check the document affected to prevent issues at query time.\n",
      "Document 4955c5262fad6c4b40b34e747fb49001 is 12273 characters long after preprocessing, where the maximum length should be 10000. Something might be wrong with the splitting, check the document affected to prevent issues at query time.\n",
      "Document f7db7bbb246ec71de620c5af09eaaf12 is 18613 characters long after preprocessing, where the maximum length should be 10000. Something might be wrong with the splitting, check the document affected to prevent issues at query time.\n",
      "Document 7222e555760234728b385bb744cdcc7a is 11681 characters long after preprocessing, where the maximum length should be 10000. Something might be wrong with the splitting, check the document affected to prevent issues at query time.\n",
      "Document de8dde07f1bd28f4d062f530caf59a5d is 11716 characters long after preprocessing, where the maximum length should be 10000. Something might be wrong with the splitting, check the document affected to prevent issues at query time.\n",
      "Document 30ec127525064a5c95dc9adebab1254 is 13677 characters long after preprocessing, where the maximum length should be 10000. Something might be wrong with the splitting, check the document affected to prevent issues at query time.\n",
      "Document 279b50ba68a22278a6cf49fa8294cb2c is 19554 characters long after preprocessing, where the maximum length should be 10000. Something might be wrong with the splitting, check the document affected to prevent issues at query time.\n",
      "Document a46c3b065aa8712599779f0a13f63043 is 11596 characters long after preprocessing, where the maximum length should be 10000. Something might be wrong with the splitting, check the document affected to prevent issues at query time.\n",
      "Document 9ee705123a598318d7cd4e6ac477fd5b is 12794 characters long after preprocessing, where the maximum length should be 10000. Something might be wrong with the splitting, check the document affected to prevent issues at query time.\n",
      "Document 7add46aeb607661c695f3b350b3fa232 is 12790 characters long after preprocessing, where the maximum length should be 10000. Something might be wrong with the splitting, check the document affected to prevent issues at query time.\n",
      "Document b1bf3b6582d0a56587fe6fa8409c13a5 is 49038 characters long after preprocessing, where the maximum length should be 10000. Something might be wrong with the splitting, check the document affected to prevent issues at query time.\n",
      "Document 365ee502dd80e3dd56797478fc49b14c is 10327 characters long after preprocessing, where the maximum length should be 10000. Something might be wrong with the splitting, check the document affected to prevent issues at query time.\n",
      "Document b54ed34761eb152add870340de994b2d is 194657 characters long after preprocessing, where the maximum length should be 10000. Something might be wrong with the splitting, check the document affected to prevent issues at query time.\n",
      "Document 7f39f1633e3679d38132e96b6629bfec is 13175 characters long after preprocessing, where the maximum length should be 10000. Something might be wrong with the splitting, check the document affected to prevent issues at query time.\n",
      "Document 5018f8885c5ba3250149fe4c2f661742 is 13181 characters long after preprocessing, where the maximum length should be 10000. Something might be wrong with the splitting, check the document affected to prevent issues at query time.\n",
      "Document e0a31fb3c8f8d5f27ed6e8d1bcd7a897 is 17084 characters long after preprocessing, where the maximum length should be 10000. Something might be wrong with the splitting, check the document affected to prevent issues at query time.\n",
      "Document c9c563f21a845892eb2e35c56ebda120 is 10694 characters long after preprocessing, where the maximum length should be 10000. Something might be wrong with the splitting, check the document affected to prevent issues at query time.\n",
      "Document 1d557d8ecfc4904a73db372ec68fba60 is 14066 characters long after preprocessing, where the maximum length should be 10000. Something might be wrong with the splitting, check the document affected to prevent issues at query time.\n",
      "Document 7ca0378d6d162155d9ba85a9cf8e1208 is 13858 characters long after preprocessing, where the maximum length should be 10000. Something might be wrong with the splitting, check the document affected to prevent issues at query time.\n",
      "Document 29dabf010475f4d6a547b929e3652d10 is 12868 characters long after preprocessing, where the maximum length should be 10000. Something might be wrong with the splitting, check the document affected to prevent issues at query time.\n",
      "Document dd063ef9b1da927729eb588714fcaa82 is 10978 characters long after preprocessing, where the maximum length should be 10000. Something might be wrong with the splitting, check the document affected to prevent issues at query time.\n",
      "Document 706dd183eabb9cb05e3a8f32b564b018 is 10872 characters long after preprocessing, where the maximum length should be 10000. Something might be wrong with the splitting, check the document affected to prevent issues at query time.\n",
      "Document 7f39f1633e3679d38132e96b6629bfec is 13175 characters long after preprocessing, where the maximum length should be 10000. Something might be wrong with the splitting, check the document affected to prevent issues at query time.\n",
      "Document d7fb667cacfb878aab6d4ba6b2c45c is 36962 characters long after preprocessing, where the maximum length should be 10000. Something might be wrong with the splitting, check the document affected to prevent issues at query time.\n",
      "Document 9a2175650f8c716bcdf72fd51e8451e5 is 11233 characters long after preprocessing, where the maximum length should be 10000. Something might be wrong with the splitting, check the document affected to prevent issues at query time.\n",
      "Document 4a72b49a997a0941d8595ec9df15d05 is 10800 characters long after preprocessing, where the maximum length should be 10000. Something might be wrong with the splitting, check the document affected to prevent issues at query time.\n",
      "Document 9c7856b262f8efe70643363261f068fe is 26649 characters long after preprocessing, where the maximum length should be 10000. Something might be wrong with the splitting, check the document affected to prevent issues at query time.\n",
      "Document e074721537e39c0132176dd318c6ddaf is 25544 characters long after preprocessing, where the maximum length should be 10000. Something might be wrong with the splitting, check the document affected to prevent issues at query time.\n",
      "Document 1f9b78fdf3002d9f37f178125c0850b6 is 13232 characters long after preprocessing, where the maximum length should be 10000. Something might be wrong with the splitting, check the document affected to prevent issues at query time.\n",
      "Document b061ea33cb1d4b950c6b7107cdfaff1b is 54329 characters long after preprocessing, where the maximum length should be 10000. Something might be wrong with the splitting, check the document affected to prevent issues at query time.\n",
      "Document baaf6509dd1de3a81e7d141c53d4b1e5 is 13967 characters long after preprocessing, where the maximum length should be 10000. Something might be wrong with the splitting, check the document affected to prevent issues at query time.\n",
      "Document a492dbf7ae4238d9d57d9fb4d84a3913 is 15614 characters long after preprocessing, where the maximum length should be 10000. Something might be wrong with the splitting, check the document affected to prevent issues at query time.\n",
      "Document b36d97b6c0f8312bae8f0c1d78654795 is 68577 characters long after preprocessing, where the maximum length should be 10000. Something might be wrong with the splitting, check the document affected to prevent issues at query time.\n",
      "Document 47a45f6564972f1da0aad1fa124b7bff is 15614 characters long after preprocessing, where the maximum length should be 10000. Something might be wrong with the splitting, check the document affected to prevent issues at query time.\n",
      "Document 3a31850547209046e1cda5ff25b7adb7 is 32743 characters long after preprocessing, where the maximum length should be 10000. Something might be wrong with the splitting, check the document affected to prevent issues at query time.\n",
      "Document 28caecdfd07d219931b0ff5b1f06b04c is 10983 characters long after preprocessing, where the maximum length should be 10000. Something might be wrong with the splitting, check the document affected to prevent issues at query time.\n",
      "Document dd063ef9b1da927729eb588714fcaa82 is 10978 characters long after preprocessing, where the maximum length should be 10000. Something might be wrong with the splitting, check the document affected to prevent issues at query time.\n",
      "Document 706dd183eabb9cb05e3a8f32b564b018 is 10872 characters long after preprocessing, where the maximum length should be 10000. Something might be wrong with the splitting, check the document affected to prevent issues at query time.\n",
      "Document a8970b8737fe5cb5dbc73e0a8c627ee9 is 12416 characters long after preprocessing, where the maximum length should be 10000. Something might be wrong with the splitting, check the document affected to prevent issues at query time.\n",
      "Document 668ad4a0f96006d08741399926499367 is 18643 characters long after preprocessing, where the maximum length should be 10000. Something might be wrong with the splitting, check the document affected to prevent issues at query time.\n",
      "Document 5f03abd46c29c25e5b7addd02be740ad is 12094 characters long after preprocessing, where the maximum length should be 10000. Something might be wrong with the splitting, check the document affected to prevent issues at query time.\n",
      "Document e8887b1f8482ccc8aec1094fdccda589 is 16232 characters long after preprocessing, where the maximum length should be 10000. Something might be wrong with the splitting, check the document affected to prevent issues at query time.\n",
      "Document 6aad4125473093966ae3ff6bb62ee60d is 11528 characters long after preprocessing, where the maximum length should be 10000. Something might be wrong with the splitting, check the document affected to prevent issues at query time.\n",
      "Document 4f472d84c659bf948d2a45a15c289538 is 11242 characters long after preprocessing, where the maximum length should be 10000. Something might be wrong with the splitting, check the document affected to prevent issues at query time.\n",
      "Document de7378b136d824bd18d653af448a838b is 11308 characters long after preprocessing, where the maximum length should be 10000. Something might be wrong with the splitting, check the document affected to prevent issues at query time.\n",
      "Document 8c3d61516d6173ccd7b5dd5a77945dcd is 14332 characters long after preprocessing, where the maximum length should be 10000. Something might be wrong with the splitting, check the document affected to prevent issues at query time.\n",
      "Document acc48fe782a45cbe374cefe560ef379b is 11153 characters long after preprocessing, where the maximum length should be 10000. Something might be wrong with the splitting, check the document affected to prevent issues at query time.\n",
      "Document ad7a1486215473f0c3ff53a7e8af6157 is 51649 characters long after preprocessing, where the maximum length should be 10000. Something might be wrong with the splitting, check the document affected to prevent issues at query time.\n",
      "Document 2c95e9883cb464faab8161c2cf2dee49 is 18156 characters long after preprocessing, where the maximum length should be 10000. Something might be wrong with the splitting, check the document affected to prevent issues at query time.\n",
      "Document f62893329c18fca70b5d97bbee099d48 is 10365 characters long after preprocessing, where the maximum length should be 10000. Something might be wrong with the splitting, check the document affected to prevent issues at query time.\n",
      "Document 156672bc6b2e5dc2660f2e7d4a3bb287 is 12242 characters long after preprocessing, where the maximum length should be 10000. Something might be wrong with the splitting, check the document affected to prevent issues at query time.\n",
      "Document 865a782908c5ed3037e5fdbedecfc9bf is 13711 characters long after preprocessing, where the maximum length should be 10000. Something might be wrong with the splitting, check the document affected to prevent issues at query time.\n",
      "Document 1f9b78fdf3002d9f37f178125c0850b6 is 13232 characters long after preprocessing, where the maximum length should be 10000. Something might be wrong with the splitting, check the document affected to prevent issues at query time.\n",
      "Document 4191e7c7eb7758998c50df902fa8b942 is 12222 characters long after preprocessing, where the maximum length should be 10000. Something might be wrong with the splitting, check the document affected to prevent issues at query time.\n",
      "Document aaa320bbb1735bb919e2e5cfa327e350 is 42978 characters long after preprocessing, where the maximum length should be 10000. Something might be wrong with the splitting, check the document affected to prevent issues at query time.\n",
      "Document b616126be748673cc00795afed34576c is 12495 characters long after preprocessing, where the maximum length should be 10000. Something might be wrong with the splitting, check the document affected to prevent issues at query time.\n",
      "Document 43838edb1bdc86023b7d7b164e685339 is 19641 characters long after preprocessing, where the maximum length should be 10000. Something might be wrong with the splitting, check the document affected to prevent issues at query time.\n",
      "Document b89165039ec386007e102d8fce8ca12f is 10977 characters long after preprocessing, where the maximum length should be 10000. Something might be wrong with the splitting, check the document affected to prevent issues at query time.\n",
      "Document 5018f8885c5ba3250149fe4c2f661742 is 13181 characters long after preprocessing, where the maximum length should be 10000. Something might be wrong with the splitting, check the document affected to prevent issues at query time.\n",
      "Document b2dd81d1c880a19f1a76ee23a08f40e3 is 11247 characters long after preprocessing, where the maximum length should be 10000. Something might be wrong with the splitting, check the document affected to prevent issues at query time.\n",
      "Document 23d26e58926ba3823ce717035f22ad26 is 13534 characters long after preprocessing, where the maximum length should be 10000. Something might be wrong with the splitting, check the document affected to prevent issues at query time.\n",
      "Document b616126be748673cc00795afed34576c is 12495 characters long after preprocessing, where the maximum length should be 10000. Something might be wrong with the splitting, check the document affected to prevent issues at query time.\n",
      "Document cb4fea35fe0730d3c4a942dbd31638c5 is 10886 characters long after preprocessing, where the maximum length should be 10000. Something might be wrong with the splitting, check the document affected to prevent issues at query time.\n",
      "Document 28e718a056e00776fbcbb4c9d99014d0 is 10574 characters long after preprocessing, where the maximum length should be 10000. Something might be wrong with the splitting, check the document affected to prevent issues at query time.\n",
      "Document 90ab895b1a22882110f73a7a214e0f67 is 15116 characters long after preprocessing, where the maximum length should be 10000. Something might be wrong with the splitting, check the document affected to prevent issues at query time.\n",
      "Document 8b9602b06277943db496eb4874fd2a89 is 12267 characters long after preprocessing, where the maximum length should be 10000. Something might be wrong with the splitting, check the document affected to prevent issues at query time.\n",
      "Document 2320697758cc2b4697fc74676eb18988 is 28405 characters long after preprocessing, where the maximum length should be 10000. Something might be wrong with the splitting, check the document affected to prevent issues at query time.\n",
      "Document c93f6c01d05557c44f467827d25f5323 is 10835 characters long after preprocessing, where the maximum length should be 10000. Something might be wrong with the splitting, check the document affected to prevent issues at query time.\n",
      "Document 1fa51f07dbe88a5a6b79ab25d2ba8e4e is 20479 characters long after preprocessing, where the maximum length should be 10000. Something might be wrong with the splitting, check the document affected to prevent issues at query time.\n",
      "Document dcbc726298d89095db52976c38f6335 is 17721 characters long after preprocessing, where the maximum length should be 10000. Something might be wrong with the splitting, check the document affected to prevent issues at query time.\n",
      "Document df40fc72b2d312a3c82f5d6dc7fdbc54 is 24512 characters long after preprocessing, where the maximum length should be 10000. Something might be wrong with the splitting, check the document affected to prevent issues at query time.\n",
      "Document c69d3ca4486b8a8fad8a0e1c22cd802 is 12332 characters long after preprocessing, where the maximum length should be 10000. Something might be wrong with the splitting, check the document affected to prevent issues at query time.\n",
      "Document df40fc72b2d312a3c82f5d6dc7fdbc54 is 24512 characters long after preprocessing, where the maximum length should be 10000. Something might be wrong with the splitting, check the document affected to prevent issues at query time.\n",
      "Document d582d304131e6f81ad2ff8e9882cdeb1 is 12710 characters long after preprocessing, where the maximum length should be 10000. Something might be wrong with the splitting, check the document affected to prevent issues at query time.\n",
      "Document 96551b0c55f64ce14276f70e18bf2ba1 is 17231 characters long after preprocessing, where the maximum length should be 10000. Something might be wrong with the splitting, check the document affected to prevent issues at query time.\n",
      "Document 62153d706cf7a7263c1c96a03e64cdf9 is 10726 characters long after preprocessing, where the maximum length should be 10000. Something might be wrong with the splitting, check the document affected to prevent issues at query time.\n",
      "Document 706dd183eabb9cb05e3a8f32b564b018 is 10872 characters long after preprocessing, where the maximum length should be 10000. Something might be wrong with the splitting, check the document affected to prevent issues at query time.\n",
      "Document 9b2d1597af8149bf6420befdbcff0e93 is 15372 characters long after preprocessing, where the maximum length should be 10000. Something might be wrong with the splitting, check the document affected to prevent issues at query time.\n",
      "Document c31e2556eba38ffd1a28af481ac6dd0a is 12861 characters long after preprocessing, where the maximum length should be 10000. Something might be wrong with the splitting, check the document affected to prevent issues at query time.\n",
      "Document b19c656ff1a3d6ad5b552dd26172d1ce is 12811 characters long after preprocessing, where the maximum length should be 10000. Something might be wrong with the splitting, check the document affected to prevent issues at query time.\n",
      "Document 3dbe6f8e0a9f689c4b557cca1fac7601 is 11076 characters long after preprocessing, where the maximum length should be 10000. Something might be wrong with the splitting, check the document affected to prevent issues at query time.\n",
      "Document 4cb49feb5e2c3527834fb3cc7a1ded5c is 12167 characters long after preprocessing, where the maximum length should be 10000. Something might be wrong with the splitting, check the document affected to prevent issues at query time.\n",
      "Document 8d6cca1ae7af066b0890ae1e7da8f34c is 22479 characters long after preprocessing, where the maximum length should be 10000. Something might be wrong with the splitting, check the document affected to prevent issues at query time.\n",
      "Document 587c734168cba66025f4b75e2868646a is 10826 characters long after preprocessing, where the maximum length should be 10000. Something might be wrong with the splitting, check the document affected to prevent issues at query time.\n",
      "Document 7903d40f61b09e7ec43412ad75341075 is 19630 characters long after preprocessing, where the maximum length should be 10000. Something might be wrong with the splitting, check the document affected to prevent issues at query time.\n",
      "Document 563d7575a5469c5c572fdc26c695047a is 11473 characters long after preprocessing, where the maximum length should be 10000. Something might be wrong with the splitting, check the document affected to prevent issues at query time.\n",
      "Document f53644373864249f14e20ff22e01364d is 18291 characters long after preprocessing, where the maximum length should be 10000. Something might be wrong with the splitting, check the document affected to prevent issues at query time.\n",
      "Document d358f4745b681be2804ba3be6a37cc99 is 13712 characters long after preprocessing, where the maximum length should be 10000. Something might be wrong with the splitting, check the document affected to prevent issues at query time.\n",
      "Document 492c4e19bee81b67503c29c984360abd is 13225 characters long after preprocessing, where the maximum length should be 10000. Something might be wrong with the splitting, check the document affected to prevent issues at query time.\n",
      "Document e557ee0a76ea92018c94e759279c1d8e is 10169 characters long after preprocessing, where the maximum length should be 10000. Something might be wrong with the splitting, check the document affected to prevent issues at query time.\n",
      "Document 12d13598eae3c6622842305dccd48c80 is 12601 characters long after preprocessing, where the maximum length should be 10000. Something might be wrong with the splitting, check the document affected to prevent issues at query time.\n",
      "Document aa2b42263a02ec2d5bcad6c474e46cb6 is 14650 characters long after preprocessing, where the maximum length should be 10000. Something might be wrong with the splitting, check the document affected to prevent issues at query time.\n",
      "Document bca28509fee14ad75631ac0d02de303c is 27180 characters long after preprocessing, where the maximum length should be 10000. Something might be wrong with the splitting, check the document affected to prevent issues at query time.\n",
      "Document adb07508f75903e963164ebce67b5f00 is 10510 characters long after preprocessing, where the maximum length should be 10000. Something might be wrong with the splitting, check the document affected to prevent issues at query time.\n",
      "Document 6fac4de48b6336c40d953c2bab38bb24 is 11989 characters long after preprocessing, where the maximum length should be 10000. Something might be wrong with the splitting, check the document affected to prevent issues at query time.\n",
      "Document 4e01b48589bf6de66bede41bd8ed4088 is 10170 characters long after preprocessing, where the maximum length should be 10000. Something might be wrong with the splitting, check the document affected to prevent issues at query time.\n",
      "Document 7246f2b3f6e569c06ca7ede28f3ba475 is 10838 characters long after preprocessing, where the maximum length should be 10000. Something might be wrong with the splitting, check the document affected to prevent issues at query time.\n",
      "Document ad639511748b620708d3a90f6851d6c0 is 12676 characters long after preprocessing, where the maximum length should be 10000. Something might be wrong with the splitting, check the document affected to prevent issues at query time.\n",
      "Document ef197c7686f04dca13e548042539095e is 13346 characters long after preprocessing, where the maximum length should be 10000. Something might be wrong with the splitting, check the document affected to prevent issues at query time.\n",
      "Document efc8276a77c9b5d7cfc8c9b94ebc6ca4 is 32059 characters long after preprocessing, where the maximum length should be 10000. Something might be wrong with the splitting, check the document affected to prevent issues at query time.\n",
      "Document 4abec36e7fb50430f19d733a4cbad9e6 is 10386 characters long after preprocessing, where the maximum length should be 10000. Something might be wrong with the splitting, check the document affected to prevent issues at query time.\n",
      "Document cc9eb110e63ba897c030751ac4543ce is 10329 characters long after preprocessing, where the maximum length should be 10000. Something might be wrong with the splitting, check the document affected to prevent issues at query time.\n",
      "Document 37ad016e6d3f48fa0d2a6456db5ae8e4 is 13577 characters long after preprocessing, where the maximum length should be 10000. Something might be wrong with the splitting, check the document affected to prevent issues at query time.\n",
      "Document 218c6eafa02705198b9988c1b382391f is 31275 characters long after preprocessing, where the maximum length should be 10000. Something might be wrong with the splitting, check the document affected to prevent issues at query time.\n",
      "Document 7d84a03b44e350e56bc37160f404cf6f is 10892 characters long after preprocessing, where the maximum length should be 10000. Something might be wrong with the splitting, check the document affected to prevent issues at query time.\n",
      "Document 69bd04323d223e8cb05eab6368235bd9 is 13044 characters long after preprocessing, where the maximum length should be 10000. Something might be wrong with the splitting, check the document affected to prevent issues at query time.\n",
      "Document e719c73d8cf9a9c0f6a92c3101f4e8f is 14125 characters long after preprocessing, where the maximum length should be 10000. Something might be wrong with the splitting, check the document affected to prevent issues at query time.\n",
      "Document 7f092777b69c8f340391e6049a10bb8a is 11027 characters long after preprocessing, where the maximum length should be 10000. Something might be wrong with the splitting, check the document affected to prevent issues at query time.\n",
      "Document b44285a16aff49d37061bcdb7a970977 is 11586 characters long after preprocessing, where the maximum length should be 10000. Something might be wrong with the splitting, check the document affected to prevent issues at query time.\n",
      "Document 6cb150aec70a0d8e3c11d3cb74e399cb is 71883 characters long after preprocessing, where the maximum length should be 10000. Something might be wrong with the splitting, check the document affected to prevent issues at query time.\n",
      "Document 2fac06f198b287534d9c32c614b397e6 is 30736 characters long after preprocessing, where the maximum length should be 10000. Something might be wrong with the splitting, check the document affected to prevent issues at query time.\n",
      "Document 9ef53ff4a5647e54344f241f25ec2ae6 is 20504 characters long after preprocessing, where the maximum length should be 10000. Something might be wrong with the splitting, check the document affected to prevent issues at query time.\n",
      "Document cf998edf7377ba2d7300897e7e088386 is 11341 characters long after preprocessing, where the maximum length should be 10000. Something might be wrong with the splitting, check the document affected to prevent issues at query time.\n",
      "Document 673effb1e9fdbd0ada63b35ef71c947 is 11925 characters long after preprocessing, where the maximum length should be 10000. Something might be wrong with the splitting, check the document affected to prevent issues at query time.\n",
      "Document 4799cc10662b6d5164a0743140cc9fec is 22482 characters long after preprocessing, where the maximum length should be 10000. Something might be wrong with the splitting, check the document affected to prevent issues at query time.\n",
      "Document d79fd60f767876d59b82a5e39adba58a is 42233 characters long after preprocessing, where the maximum length should be 10000. Something might be wrong with the splitting, check the document affected to prevent issues at query time.\n",
      "Document 3a5a5982c787129e6331faa5deb07819 is 11518 characters long after preprocessing, where the maximum length should be 10000. Something might be wrong with the splitting, check the document affected to prevent issues at query time.\n",
      "Document 6dc4f30a23eed6563a581932fbd033c4 is 11316 characters long after preprocessing, where the maximum length should be 10000. Something might be wrong with the splitting, check the document affected to prevent issues at query time.\n",
      "Document 1aa4bb929511efc283e90bfe9097e7dd is 10834 characters long after preprocessing, where the maximum length should be 10000. Something might be wrong with the splitting, check the document affected to prevent issues at query time.\n",
      "Document b2625834f74f28324b858dfa584a5935 is 14385 characters long after preprocessing, where the maximum length should be 10000. Something might be wrong with the splitting, check the document affected to prevent issues at query time.\n",
      "Document 4f2e8b7ea1b11208aa07cd5cbc51207e is 22420 characters long after preprocessing, where the maximum length should be 10000. Something might be wrong with the splitting, check the document affected to prevent issues at query time.\n",
      "Document 4f0b5daf0eea5944eac98cc891cf7b2e is 11721 characters long after preprocessing, where the maximum length should be 10000. Something might be wrong with the splitting, check the document affected to prevent issues at query time.\n",
      "Document 3f5595d37a43ee6b148bc76728780d9e is 10720 characters long after preprocessing, where the maximum length should be 10000. Something might be wrong with the splitting, check the document affected to prevent issues at query time.\n",
      "Document e6b127bfef268e227e5282dee39b9800 is 11803 characters long after preprocessing, where the maximum length should be 10000. Something might be wrong with the splitting, check the document affected to prevent issues at query time.\n",
      "Document 492c4e19bee81b67503c29c984360abd is 13225 characters long after preprocessing, where the maximum length should be 10000. Something might be wrong with the splitting, check the document affected to prevent issues at query time.\n",
      "Document d626e3053bc698e921baa15a3eace555 is 15028 characters long after preprocessing, where the maximum length should be 10000. Something might be wrong with the splitting, check the document affected to prevent issues at query time.\n",
      "Document 720753dfe1f7a66ef065a2b4c9916dbb is 11491 characters long after preprocessing, where the maximum length should be 10000. Something might be wrong with the splitting, check the document affected to prevent issues at query time.\n",
      "Document 9f6b5695c600a2b00ab0d251c30d0634 is 11777 characters long after preprocessing, where the maximum length should be 10000. Something might be wrong with the splitting, check the document affected to prevent issues at query time.\n",
      "Document 5e78bfc2ce940c8f6843e8b9083ce40e is 10491 characters long after preprocessing, where the maximum length should be 10000. Something might be wrong with the splitting, check the document affected to prevent issues at query time.\n",
      "Document fe421a828b8a3afed0f3c9a767b993c4 is 100364 characters long after preprocessing, where the maximum length should be 10000. Something might be wrong with the splitting, check the document affected to prevent issues at query time.\n",
      "Document d7d3b73e25b595d760f0beb42497d4ab is 12676 characters long after preprocessing, where the maximum length should be 10000. Something might be wrong with the splitting, check the document affected to prevent issues at query time.\n",
      "Document 5d7e47a295c9d3f747c1f022f9b28961 is 11436 characters long after preprocessing, where the maximum length should be 10000. Something might be wrong with the splitting, check the document affected to prevent issues at query time.\n",
      "Document ef4507b36c40d71a34e43214d1896d62 is 26039 characters long after preprocessing, where the maximum length should be 10000. Something might be wrong with the splitting, check the document affected to prevent issues at query time.\n",
      "Document 5febe9d254e1e9f91a5178447491a0c3 is 16769 characters long after preprocessing, where the maximum length should be 10000. Something might be wrong with the splitting, check the document affected to prevent issues at query time.\n",
      "Document 72161809cfb22ba662be7abaa336e787 is 24633 characters long after preprocessing, where the maximum length should be 10000. Something might be wrong with the splitting, check the document affected to prevent issues at query time.\n",
      "Document 7f092777b69c8f340391e6049a10bb8a is 11027 characters long after preprocessing, where the maximum length should be 10000. Something might be wrong with the splitting, check the document affected to prevent issues at query time.\n",
      "Document a8c610bb95071410482e34e30f151b10 is 32362 characters long after preprocessing, where the maximum length should be 10000. Something might be wrong with the splitting, check the document affected to prevent issues at query time.\n",
      "Document 33aec3a496505c896938922645722c09 is 16236 characters long after preprocessing, where the maximum length should be 10000. Something might be wrong with the splitting, check the document affected to prevent issues at query time.\n",
      "Document a68b1389a8e799089ec1b6098f9a5f9e is 19618 characters long after preprocessing, where the maximum length should be 10000. Something might be wrong with the splitting, check the document affected to prevent issues at query time.\n",
      "Document 785ca8dc9c63eb1a1e1491b55be507f4 is 14359 characters long after preprocessing, where the maximum length should be 10000. Something might be wrong with the splitting, check the document affected to prevent issues at query time.\n",
      "Document 8d883d8e6b1e24ecd1392ef8a384c4f0 is 15281 characters long after preprocessing, where the maximum length should be 10000. Something might be wrong with the splitting, check the document affected to prevent issues at query time.\n",
      "Document 1332593aa70d47a6447c384dd8a93fbd is 14997 characters long after preprocessing, where the maximum length should be 10000. Something might be wrong with the splitting, check the document affected to prevent issues at query time.\n",
      "Document 9abdf479e2c579ada81ec0a47b1c8c55 is 12444 characters long after preprocessing, where the maximum length should be 10000. Something might be wrong with the splitting, check the document affected to prevent issues at query time.\n",
      "Document f1c288dbf6a845a465d09d839da73005 is 11056 characters long after preprocessing, where the maximum length should be 10000. Something might be wrong with the splitting, check the document affected to prevent issues at query time.\n",
      "Document d9d7a33c4858d00b8573fe38c93b1eb0 is 24383 characters long after preprocessing, where the maximum length should be 10000. Something might be wrong with the splitting, check the document affected to prevent issues at query time.\n",
      "Document 45cdba76c8c150f36df17d14a392df5e is 15632 characters long after preprocessing, where the maximum length should be 10000. Something might be wrong with the splitting, check the document affected to prevent issues at query time.\n",
      "Document e0cc11342c4cd8f4d854fe581b01b833 is 13371 characters long after preprocessing, where the maximum length should be 10000. Something might be wrong with the splitting, check the document affected to prevent issues at query time.\n",
      "Document 706dd183eabb9cb05e3a8f32b564b018 is 10872 characters long after preprocessing, where the maximum length should be 10000. Something might be wrong with the splitting, check the document affected to prevent issues at query time.\n",
      "Document 1cf020edda5092e2e63618fb9fd2d5ef is 20847 characters long after preprocessing, where the maximum length should be 10000. Something might be wrong with the splitting, check the document affected to prevent issues at query time.\n",
      "Document 9ccff161630d1985717c687def8bdf7b is 13373 characters long after preprocessing, where the maximum length should be 10000. Something might be wrong with the splitting, check the document affected to prevent issues at query time.\n",
      "Document 53344179effb7c1f8b7f2587d87cd101 is 90647 characters long after preprocessing, where the maximum length should be 10000. Something might be wrong with the splitting, check the document affected to prevent issues at query time.\n",
      "Document c259f5f569b70cf1fd1d1fecac1f52d3 is 19886 characters long after preprocessing, where the maximum length should be 10000. Something might be wrong with the splitting, check the document affected to prevent issues at query time.\n",
      "Document 3f0a5ef6151b3769cbe50bc30cfd00b5 is 14020 characters long after preprocessing, where the maximum length should be 10000. Something might be wrong with the splitting, check the document affected to prevent issues at query time.\n",
      "Document ee75d2892ef7e5b6afc1fff011fe83d9 is 17053 characters long after preprocessing, where the maximum length should be 10000. Something might be wrong with the splitting, check the document affected to prevent issues at query time.\n",
      "Document 587ff2fbf603e673f6d18a09c5a47ed3 is 13206 characters long after preprocessing, where the maximum length should be 10000. Something might be wrong with the splitting, check the document affected to prevent issues at query time.\n",
      "Document cf998edf7377ba2d7300897e7e088386 is 11341 characters long after preprocessing, where the maximum length should be 10000. Something might be wrong with the splitting, check the document affected to prevent issues at query time.\n",
      "Document 326ff4a04169e18e4ebf10f91f6415ae is 14724 characters long after preprocessing, where the maximum length should be 10000. Something might be wrong with the splitting, check the document affected to prevent issues at query time.\n",
      "Document 4d088bf416dcd7345e28ae02d88e8e3b is 24493 characters long after preprocessing, where the maximum length should be 10000. Something might be wrong with the splitting, check the document affected to prevent issues at query time.\n",
      "Document a401e2ff126ae91ddb25151c37bd2126 is 16568 characters long after preprocessing, where the maximum length should be 10000. Something might be wrong with the splitting, check the document affected to prevent issues at query time.\n",
      "Document 9e57221c3aef32ccc61273f514b9c38f is 10309 characters long after preprocessing, where the maximum length should be 10000. Something might be wrong with the splitting, check the document affected to prevent issues at query time.\n",
      "Document 4328c38c2745fa80ac1e4f5e1cb324a6 is 15575 characters long after preprocessing, where the maximum length should be 10000. Something might be wrong with the splitting, check the document affected to prevent issues at query time.\n",
      "Document 5461219426a514609f5da84b5a3205a3 is 20709 characters long after preprocessing, where the maximum length should be 10000. Something might be wrong with the splitting, check the document affected to prevent issues at query time.\n",
      "Document 9ad6e0482ac4586e689c186314563c9d is 37183 characters long after preprocessing, where the maximum length should be 10000. Something might be wrong with the splitting, check the document affected to prevent issues at query time.\n",
      "Document 7f9ce71c4ac581dff2f7247fa189c1fa is 24350 characters long after preprocessing, where the maximum length should be 10000. Something might be wrong with the splitting, check the document affected to prevent issues at query time.\n",
      "Document b4f8ba0e26cb6da79cffe630911b699f is 15456 characters long after preprocessing, where the maximum length should be 10000. Something might be wrong with the splitting, check the document affected to prevent issues at query time.\n",
      "Document 7b4b54de03126f26de478b156945c06 is 12290 characters long after preprocessing, where the maximum length should be 10000. Something might be wrong with the splitting, check the document affected to prevent issues at query time.\n",
      "Document 4fb723937b5df1ead31cec745fa8c18 is 108779 characters long after preprocessing, where the maximum length should be 10000. Something might be wrong with the splitting, check the document affected to prevent issues at query time.\n",
      "Document 77a398931c7ac9dac4747ba68f851935 is 10136 characters long after preprocessing, where the maximum length should be 10000. Something might be wrong with the splitting, check the document affected to prevent issues at query time.\n",
      "Document 7ffd247e8c8cddcffa3489247e8b8f6 is 18951 characters long after preprocessing, where the maximum length should be 10000. Something might be wrong with the splitting, check the document affected to prevent issues at query time.\n",
      "Document 96418ee9ffba9b9892e03008a08ab486 is 13176 characters long after preprocessing, where the maximum length should be 10000. Something might be wrong with the splitting, check the document affected to prevent issues at query time.\n",
      "Document 592ac89dc234c1c0d0b26f8aaa3a0788 is 24631 characters long after preprocessing, where the maximum length should be 10000. Something might be wrong with the splitting, check the document affected to prevent issues at query time.\n",
      "Document 5388fbbe5c15b59560956df4281570f5 is 17183 characters long after preprocessing, where the maximum length should be 10000. Something might be wrong with the splitting, check the document affected to prevent issues at query time.\n",
      "Document ddf097193686b2c6dc3ed43d4a972992 is 12677 characters long after preprocessing, where the maximum length should be 10000. Something might be wrong with the splitting, check the document affected to prevent issues at query time.\n",
      "Document 22074cf743d39e2bb773c2e1b21fe7cd is 13315 characters long after preprocessing, where the maximum length should be 10000. Something might be wrong with the splitting, check the document affected to prevent issues at query time.\n",
      "Document 4f21d7c642fae6a1cf5c36b0d63aa11c is 18083 characters long after preprocessing, where the maximum length should be 10000. Something might be wrong with the splitting, check the document affected to prevent issues at query time.\n",
      "Document 1f9b78fdf3002d9f37f178125c0850b6 is 13232 characters long after preprocessing, where the maximum length should be 10000. Something might be wrong with the splitting, check the document affected to prevent issues at query time.\n",
      "Document fe31856d10d2f8ad32e341055c44957d is 41255 characters long after preprocessing, where the maximum length should be 10000. Something might be wrong with the splitting, check the document affected to prevent issues at query time.\n",
      "Document 4e3dc88a844c8246af6a6e31d6d9d62b is 16111 characters long after preprocessing, where the maximum length should be 10000. Something might be wrong with the splitting, check the document affected to prevent issues at query time.\n",
      "Document 362bee9f34e65649302b270752920789 is 15837 characters long after preprocessing, where the maximum length should be 10000. Something might be wrong with the splitting, check the document affected to prevent issues at query time.\n",
      "Document 9e4e916d5c6128429337f8f253fb6fd6 is 11444 characters long after preprocessing, where the maximum length should be 10000. Something might be wrong with the splitting, check the document affected to prevent issues at query time.\n",
      "Document 6b58a3101291d55e685a1b1d366cf345 is 100952 characters long after preprocessing, where the maximum length should be 10000. Something might be wrong with the splitting, check the document affected to prevent issues at query time.\n",
      "Document b832aa9861a8d95c8c6a2dfd74d08019 is 12310 characters long after preprocessing, where the maximum length should be 10000. Something might be wrong with the splitting, check the document affected to prevent issues at query time.\n",
      "Document 10d02a7c3714cb9d6e18ed00906e8255 is 12193 characters long after preprocessing, where the maximum length should be 10000. Something might be wrong with the splitting, check the document affected to prevent issues at query time.\n",
      "Document 42f91d6b12548cf8ec702dbd399367aa is 32187 characters long after preprocessing, where the maximum length should be 10000. Something might be wrong with the splitting, check the document affected to prevent issues at query time.\n",
      "Document 4c09b4d2183abce0e1a6dce9226d76cc is 11286 characters long after preprocessing, where the maximum length should be 10000. Something might be wrong with the splitting, check the document affected to prevent issues at query time.\n",
      "Document cab91fe9bc67d0c141894241a97cfd24 is 15480 characters long after preprocessing, where the maximum length should be 10000. Something might be wrong with the splitting, check the document affected to prevent issues at query time.\n",
      "Document b4b5fff9ace5c0a8f90bbc24fa5a4198 is 105655 characters long after preprocessing, where the maximum length should be 10000. Something might be wrong with the splitting, check the document affected to prevent issues at query time.\n",
      "Document 6e5159680c299889d2869ffb4cc04595 is 18135 characters long after preprocessing, where the maximum length should be 10000. Something might be wrong with the splitting, check the document affected to prevent issues at query time.\n",
      "Document bb27635f4b783db2fab69c740360e0e is 12348 characters long after preprocessing, where the maximum length should be 10000. Something might be wrong with the splitting, check the document affected to prevent issues at query time.\n",
      "Document 747feeb23e6af6c61f5c256063efd1f2 is 12021 characters long after preprocessing, where the maximum length should be 10000. Something might be wrong with the splitting, check the document affected to prevent issues at query time.\n",
      "Document 88372523b225540d8258e623a037f9e4 is 13363 characters long after preprocessing, where the maximum length should be 10000. Something might be wrong with the splitting, check the document affected to prevent issues at query time.\n",
      "Document 18e5c8cc18360cb2c059b0a98a6ca547 is 13548 characters long after preprocessing, where the maximum length should be 10000. Something might be wrong with the splitting, check the document affected to prevent issues at query time.\n",
      "Document df50b4d051d590ba3b3236ed1c1391c3 is 13242 characters long after preprocessing, where the maximum length should be 10000. Something might be wrong with the splitting, check the document affected to prevent issues at query time.\n",
      "Document 98be42809f62bc26d59ab44221f1ce5b is 15086 characters long after preprocessing, where the maximum length should be 10000. Something might be wrong with the splitting, check the document affected to prevent issues at query time.\n",
      "Document d9f79e722591776241629b9bf5693cb3 is 33641 characters long after preprocessing, where the maximum length should be 10000. Something might be wrong with the splitting, check the document affected to prevent issues at query time.\n",
      "Document 14776dfe8f134cadee5910db9daa0c1a is 10027 characters long after preprocessing, where the maximum length should be 10000. Something might be wrong with the splitting, check the document affected to prevent issues at query time.\n",
      "Document 5dec9b98531f5b0c31628c60d9dd80ae is 13639 characters long after preprocessing, where the maximum length should be 10000. Something might be wrong with the splitting, check the document affected to prevent issues at query time.\n",
      "Document 841f10a0a26d73ce7a7787e805b4fe52 is 59637 characters long after preprocessing, where the maximum length should be 10000. Something might be wrong with the splitting, check the document affected to prevent issues at query time.\n",
      "Document b94ecca5e11e1998d02760f3c5e10669 is 11390 characters long after preprocessing, where the maximum length should be 10000. Something might be wrong with the splitting, check the document affected to prevent issues at query time.\n",
      "Document 1c7d505159b4fbe4f0ceaef6e6b4a5e0 is 25391 characters long after preprocessing, where the maximum length should be 10000. Something might be wrong with the splitting, check the document affected to prevent issues at query time.\n",
      "Document 762657288375e7588ffc1fab14da3b95 is 11357 characters long after preprocessing, where the maximum length should be 10000. Something might be wrong with the splitting, check the document affected to prevent issues at query time.\n",
      "Document ae548391c405229a6183e379fd07c2b0 is 23105 characters long after preprocessing, where the maximum length should be 10000. Something might be wrong with the splitting, check the document affected to prevent issues at query time.\n",
      "Document 28464debaef5de9cf7133f168b359088 is 14917 characters long after preprocessing, where the maximum length should be 10000. Something might be wrong with the splitting, check the document affected to prevent issues at query time.\n",
      "Document 9e57221c3aef32ccc61273f514b9c38f is 10309 characters long after preprocessing, where the maximum length should be 10000. Something might be wrong with the splitting, check the document affected to prevent issues at query time.\n",
      "Document 4328c38c2745fa80ac1e4f5e1cb324a6 is 15575 characters long after preprocessing, where the maximum length should be 10000. Something might be wrong with the splitting, check the document affected to prevent issues at query time.\n",
      "Document 5461219426a514609f5da84b5a3205a3 is 20709 characters long after preprocessing, where the maximum length should be 10000. Something might be wrong with the splitting, check the document affected to prevent issues at query time.\n",
      "Document 9ad6e0482ac4586e689c186314563c9d is 37183 characters long after preprocessing, where the maximum length should be 10000. Something might be wrong with the splitting, check the document affected to prevent issues at query time.\n",
      "Document 7f9ce71c4ac581dff2f7247fa189c1fa is 24350 characters long after preprocessing, where the maximum length should be 10000. Something might be wrong with the splitting, check the document affected to prevent issues at query time.\n",
      "Document 5d5124997bbc6ebdb87063f6e1a3f7d4 is 11535 characters long after preprocessing, where the maximum length should be 10000. Something might be wrong with the splitting, check the document affected to prevent issues at query time.\n",
      "Document 36ae4b517442e2c1f9312a57efb33d2f is 18326 characters long after preprocessing, where the maximum length should be 10000. Something might be wrong with the splitting, check the document affected to prevent issues at query time.\n",
      "Document 43bc2c7c3057103ddd8fc79072748be9 is 33784 characters long after preprocessing, where the maximum length should be 10000. Something might be wrong with the splitting, check the document affected to prevent issues at query time.\n",
      "Document a9cb85bf73990021c11c482a3d306540 is 13408 characters long after preprocessing, where the maximum length should be 10000. Something might be wrong with the splitting, check the document affected to prevent issues at query time.\n",
      "Document 1867a36217ed32d81dd5a4427736683f is 21635 characters long after preprocessing, where the maximum length should be 10000. Something might be wrong with the splitting, check the document affected to prevent issues at query time.\n",
      "Document 482c112fdea8701da528a0950dda257b is 16412 characters long after preprocessing, where the maximum length should be 10000. Something might be wrong with the splitting, check the document affected to prevent issues at query time.\n",
      "Document 74735e87286b0404e915545aeb8062a2 is 13314 characters long after preprocessing, where the maximum length should be 10000. Something might be wrong with the splitting, check the document affected to prevent issues at query time.\n",
      "Document 56bb55dc55767445240692753b721d92 is 12802 characters long after preprocessing, where the maximum length should be 10000. Something might be wrong with the splitting, check the document affected to prevent issues at query time.\n",
      "Document 77787af5e38f7b9705e69626e0f73bd4 is 13746 characters long after preprocessing, where the maximum length should be 10000. Something might be wrong with the splitting, check the document affected to prevent issues at query time.\n",
      "Document d4489caa52b39db152f2f55cab270ba6 is 13855 characters long after preprocessing, where the maximum length should be 10000. Something might be wrong with the splitting, check the document affected to prevent issues at query time.\n",
      "Document b57977afec537d38c00909fb3ffe764c is 62639 characters long after preprocessing, where the maximum length should be 10000. Something might be wrong with the splitting, check the document affected to prevent issues at query time.\n",
      "Document e41c66e5117de7fba3c039b1004c144 is 13866 characters long after preprocessing, where the maximum length should be 10000. Something might be wrong with the splitting, check the document affected to prevent issues at query time.\n",
      "Document 7031b4067397b6182173de9992ebc4a is 23385 characters long after preprocessing, where the maximum length should be 10000. Something might be wrong with the splitting, check the document affected to prevent issues at query time.\n",
      "Document 36b9dbaf90f9ab78fc1ff3d0144c7a2b is 33588 characters long after preprocessing, where the maximum length should be 10000. Something might be wrong with the splitting, check the document affected to prevent issues at query time.\n",
      "Document 9480c6d8d9d2e700c090d6c46a0038a7 is 12278 characters long after preprocessing, where the maximum length should be 10000. Something might be wrong with the splitting, check the document affected to prevent issues at query time.\n",
      "Document 5398333985e0ba80f003f94a71963597 is 13661 characters long after preprocessing, where the maximum length should be 10000. Something might be wrong with the splitting, check the document affected to prevent issues at query time.\n",
      "Document 14c3998560b360e6534241b25ac7e4ac is 87932 characters long after preprocessing, where the maximum length should be 10000. Something might be wrong with the splitting, check the document affected to prevent issues at query time.\n",
      "Document 3ac76df4bc66afc45522e276a377985b is 10568 characters long after preprocessing, where the maximum length should be 10000. Something might be wrong with the splitting, check the document affected to prevent issues at query time.\n",
      "Document e5ac76d66c04e509e58a360dc6806994 is 10878 characters long after preprocessing, where the maximum length should be 10000. Something might be wrong with the splitting, check the document affected to prevent issues at query time.\n",
      "Document 15a97f675afa84ba0e005f6246f41cf7 is 33755 characters long after preprocessing, where the maximum length should be 10000. Something might be wrong with the splitting, check the document affected to prevent issues at query time.\n",
      "Document b65e7d343c0306e927c9e7842bbca14c is 11396 characters long after preprocessing, where the maximum length should be 10000. Something might be wrong with the splitting, check the document affected to prevent issues at query time.\n",
      "Document 9d3a3e8b8d87026455535339465b6918 is 10680 characters long after preprocessing, where the maximum length should be 10000. Something might be wrong with the splitting, check the document affected to prevent issues at query time.\n",
      "Document b5912eb1c066b9dcc3942bb9c340a4af is 15303 characters long after preprocessing, where the maximum length should be 10000. Something might be wrong with the splitting, check the document affected to prevent issues at query time.\n",
      "Document 5a71d1dcb60540218a7d7d980dbda7a6 is 13198 characters long after preprocessing, where the maximum length should be 10000. Something might be wrong with the splitting, check the document affected to prevent issues at query time.\n",
      "Document 68ed39a89928362f1d3a20f17f1ebd63 is 20715 characters long after preprocessing, where the maximum length should be 10000. Something might be wrong with the splitting, check the document affected to prevent issues at query time.\n",
      "Document da4886d81cb80c1a800a977c40543d0e is 11686 characters long after preprocessing, where the maximum length should be 10000. Something might be wrong with the splitting, check the document affected to prevent issues at query time.\n",
      "Document 674e217e0ee3ed0effe72379dae25de1 is 11110 characters long after preprocessing, where the maximum length should be 10000. Something might be wrong with the splitting, check the document affected to prevent issues at query time.\n",
      "Document 820942647c5f7638cdc2cf7e92c7d60e is 11251 characters long after preprocessing, where the maximum length should be 10000. Something might be wrong with the splitting, check the document affected to prevent issues at query time.\n",
      "Document e557ee0a76ea92018c94e759279c1d8e is 10169 characters long after preprocessing, where the maximum length should be 10000. Something might be wrong with the splitting, check the document affected to prevent issues at query time.\n",
      "Document 6dea29c490a4d78704ac8ccb361b2a3d is 13126 characters long after preprocessing, where the maximum length should be 10000. Something might be wrong with the splitting, check the document affected to prevent issues at query time.\n",
      "Document 4b91e0c06c3c9c2b747a5d2095c5e3c7 is 19567 characters long after preprocessing, where the maximum length should be 10000. Something might be wrong with the splitting, check the document affected to prevent issues at query time.\n",
      "Document dad347cf0995df1747245f3f62cc2078 is 14758 characters long after preprocessing, where the maximum length should be 10000. Something might be wrong with the splitting, check the document affected to prevent issues at query time.\n",
      "Document 48df75eeea38cb9c5acc7640661688d0 is 74770 characters long after preprocessing, where the maximum length should be 10000. Something might be wrong with the splitting, check the document affected to prevent issues at query time.\n",
      "Document ba9a32a544d204ae44267de3f8dccf8a is 28180 characters long after preprocessing, where the maximum length should be 10000. Something might be wrong with the splitting, check the document affected to prevent issues at query time.\n",
      "Document 28464debaef5de9cf7133f168b359088 is 14917 characters long after preprocessing, where the maximum length should be 10000. Something might be wrong with the splitting, check the document affected to prevent issues at query time.\n",
      "Document 9e57221c3aef32ccc61273f514b9c38f is 10309 characters long after preprocessing, where the maximum length should be 10000. Something might be wrong with the splitting, check the document affected to prevent issues at query time.\n",
      "Document 4328c38c2745fa80ac1e4f5e1cb324a6 is 15575 characters long after preprocessing, where the maximum length should be 10000. Something might be wrong with the splitting, check the document affected to prevent issues at query time.\n",
      "Document 5461219426a514609f5da84b5a3205a3 is 20709 characters long after preprocessing, where the maximum length should be 10000. Something might be wrong with the splitting, check the document affected to prevent issues at query time.\n",
      "Document 900656cc767e9e9280970a2109873ebc is 37482 characters long after preprocessing, where the maximum length should be 10000. Something might be wrong with the splitting, check the document affected to prevent issues at query time.\n",
      "Document 7f9ce71c4ac581dff2f7247fa189c1fa is 24350 characters long after preprocessing, where the maximum length should be 10000. Something might be wrong with the splitting, check the document affected to prevent issues at query time.\n",
      "Document 2263156beb421fb86c2784792dfae5c is 10958 characters long after preprocessing, where the maximum length should be 10000. Something might be wrong with the splitting, check the document affected to prevent issues at query time.\n",
      "Document 99bc125b17f94f0985be9616a7f699ff is 12483 characters long after preprocessing, where the maximum length should be 10000. Something might be wrong with the splitting, check the document affected to prevent issues at query time.\n",
      "Document 66ca4ea0b606fe996042b770b558950d is 13117 characters long after preprocessing, where the maximum length should be 10000. Something might be wrong with the splitting, check the document affected to prevent issues at query time.\n",
      "Document 2a101660d4c688636b68d2694bbc0e49 is 22357 characters long after preprocessing, where the maximum length should be 10000. Something might be wrong with the splitting, check the document affected to prevent issues at query time.\n",
      "Document 97dcd20944937fe8d2338f188108e945 is 16079 characters long after preprocessing, where the maximum length should be 10000. Something might be wrong with the splitting, check the document affected to prevent issues at query time.\n",
      "Document 50eaaacfce6c9f991993ef0d128f8f87 is 10480 characters long after preprocessing, where the maximum length should be 10000. Something might be wrong with the splitting, check the document affected to prevent issues at query time.\n",
      "Document a81f70d5deaf07944ee68badaaac7ae5 is 13305 characters long after preprocessing, where the maximum length should be 10000. Something might be wrong with the splitting, check the document affected to prevent issues at query time.\n",
      "Document dbc4facf82e20b17c25f8c724ad696fc is 11745 characters long after preprocessing, where the maximum length should be 10000. Something might be wrong with the splitting, check the document affected to prevent issues at query time.\n",
      "Document 66150e2106a3f8ed7dcf77e66d2a4abb is 16676 characters long after preprocessing, where the maximum length should be 10000. Something might be wrong with the splitting, check the document affected to prevent issues at query time.\n",
      "Document 11790de524c89750d12a9197a7b38faa is 25932 characters long after preprocessing, where the maximum length should be 10000. Something might be wrong with the splitting, check the document affected to prevent issues at query time.\n",
      "Document 6c4706767e3a28fcdb700cbf7a3d83b2 is 11332 characters long after preprocessing, where the maximum length should be 10000. Something might be wrong with the splitting, check the document affected to prevent issues at query time.\n",
      "Document 312aa6096685477f5a005baff819cb07 is 14601 characters long after preprocessing, where the maximum length should be 10000. Something might be wrong with the splitting, check the document affected to prevent issues at query time.\n",
      "Document 849a03ef1b8039ff73b7e1761a7f388f is 17711 characters long after preprocessing, where the maximum length should be 10000. Something might be wrong with the splitting, check the document affected to prevent issues at query time.\n",
      "Document eabeec759dacb2d03cc3cc28b3e02f3e is 18562 characters long after preprocessing, where the maximum length should be 10000. Something might be wrong with the splitting, check the document affected to prevent issues at query time.\n",
      "Document 1d2a2fa9af6650522c048feb3a774d06 is 16187 characters long after preprocessing, where the maximum length should be 10000. Something might be wrong with the splitting, check the document affected to prevent issues at query time.\n",
      "Document bd188d97c0cfe824fac060a0562e5685 is 14438 characters long after preprocessing, where the maximum length should be 10000. Something might be wrong with the splitting, check the document affected to prevent issues at query time.\n",
      "Document 241a996e28e364dde52bbb1da64944e8 is 16638 characters long after preprocessing, where the maximum length should be 10000. Something might be wrong with the splitting, check the document affected to prevent issues at query time.\n",
      "Document a7efee358f40dc410d293da159789385 is 20627 characters long after preprocessing, where the maximum length should be 10000. Something might be wrong with the splitting, check the document affected to prevent issues at query time.\n",
      "Document d1d6222ae1754b3db2f536b6715fc6b is 16501 characters long after preprocessing, where the maximum length should be 10000. Something might be wrong with the splitting, check the document affected to prevent issues at query time.\n",
      "Document 985faade86fca87accc12e1bd425b3f4 is 16596 characters long after preprocessing, where the maximum length should be 10000. Something might be wrong with the splitting, check the document affected to prevent issues at query time.\n",
      "Document cc57df3941c7655f05b36aec28b99817 is 13615 characters long after preprocessing, where the maximum length should be 10000. Something might be wrong with the splitting, check the document affected to prevent issues at query time.\n",
      "Document 60061082427061ece87bdf6b47a159e6 is 14501 characters long after preprocessing, where the maximum length should be 10000. Something might be wrong with the splitting, check the document affected to prevent issues at query time.\n",
      "Document 8bbf6b7488b3829771b3f42136568bd8 is 27861 characters long after preprocessing, where the maximum length should be 10000. Something might be wrong with the splitting, check the document affected to prevent issues at query time.\n",
      "Document 9093cfba535c54e71347edffaf0620ef is 16455 characters long after preprocessing, where the maximum length should be 10000. Something might be wrong with the splitting, check the document affected to prevent issues at query time.\n",
      "Document 4742aa69587ae8b8ac412b8adf8d8e4f is 99721 characters long after preprocessing, where the maximum length should be 10000. Something might be wrong with the splitting, check the document affected to prevent issues at query time.\n",
      "Document 4a2ebe9cb33024861e423c7dff957e31 is 11363 characters long after preprocessing, where the maximum length should be 10000. Something might be wrong with the splitting, check the document affected to prevent issues at query time.\n",
      "Document 523e00c916455823844cc4e7c44ebe65 is 13803 characters long after preprocessing, where the maximum length should be 10000. Something might be wrong with the splitting, check the document affected to prevent issues at query time.\n",
      "Document 78e9ed92200a60af02ac966f967e7dc6 is 15698 characters long after preprocessing, where the maximum length should be 10000. Something might be wrong with the splitting, check the document affected to prevent issues at query time.\n",
      "Document e9a6cb7a448ebcd777267b96a3b3fd7e is 12898 characters long after preprocessing, where the maximum length should be 10000. Something might be wrong with the splitting, check the document affected to prevent issues at query time.\n",
      "Document 1f94ea0e658cdbbf8a0147bb7f0f018e is 22356 characters long after preprocessing, where the maximum length should be 10000. Something might be wrong with the splitting, check the document affected to prevent issues at query time.\n",
      "Document a3f609af2b9954fa3d5eb26e42bd4c0d is 11011 characters long after preprocessing, where the maximum length should be 10000. Something might be wrong with the splitting, check the document affected to prevent issues at query time.\n",
      "Document 548458475657817c2ef19e9abe889af6 is 23393 characters long after preprocessing, where the maximum length should be 10000. Something might be wrong with the splitting, check the document affected to prevent issues at query time.\n",
      "Document 492c4e19bee81b67503c29c984360abd is 13225 characters long after preprocessing, where the maximum length should be 10000. Something might be wrong with the splitting, check the document affected to prevent issues at query time.\n",
      "Document 9e3335419a532f9c7fe72ccf7a150a4 is 10019 characters long after preprocessing, where the maximum length should be 10000. Something might be wrong with the splitting, check the document affected to prevent issues at query time.\n",
      "Document e5da640c364f8e50c01bdcd97e0b2f0d is 13688 characters long after preprocessing, where the maximum length should be 10000. Something might be wrong with the splitting, check the document affected to prevent issues at query time.\n",
      "Document a430adacd1670bacd8414c1567fa4be3 is 13711 characters long after preprocessing, where the maximum length should be 10000. Something might be wrong with the splitting, check the document affected to prevent issues at query time.\n",
      "Document 1f94ea0e658cdbbf8a0147bb7f0f018e is 22356 characters long after preprocessing, where the maximum length should be 10000. Something might be wrong with the splitting, check the document affected to prevent issues at query time.\n",
      "Document 1ee78e34e00de18be5b82fdff72b924a is 14737 characters long after preprocessing, where the maximum length should be 10000. Something might be wrong with the splitting, check the document affected to prevent issues at query time.\n",
      "Document 86f6b7298c1f229fe07fb0621061e4a0 is 11738 characters long after preprocessing, where the maximum length should be 10000. Something might be wrong with the splitting, check the document affected to prevent issues at query time.\n",
      "Document bceafad54d62e33005129feaa8aa8869 is 11740 characters long after preprocessing, where the maximum length should be 10000. Something might be wrong with the splitting, check the document affected to prevent issues at query time.\n",
      "Document e2e96d763e91354de685ded0a1157698 is 20568 characters long after preprocessing, where the maximum length should be 10000. Something might be wrong with the splitting, check the document affected to prevent issues at query time.\n",
      "Document 4a84581890d75a141a7e1a7c6a9153d2 is 20590 characters long after preprocessing, where the maximum length should be 10000. Something might be wrong with the splitting, check the document affected to prevent issues at query time.\n",
      "Document 9ebe2b0a6d8c294ea0e4dffc3fc0ef7 is 12580 characters long after preprocessing, where the maximum length should be 10000. Something might be wrong with the splitting, check the document affected to prevent issues at query time.\n",
      "Document 1aa4bb929511efc283e90bfe9097e7dd is 10834 characters long after preprocessing, where the maximum length should be 10000. Something might be wrong with the splitting, check the document affected to prevent issues at query time.\n",
      "Document babb6194778c3116660ee2b47b22c4da is 29746 characters long after preprocessing, where the maximum length should be 10000. Something might be wrong with the splitting, check the document affected to prevent issues at query time.\n",
      "Document 1f9b78fdf3002d9f37f178125c0850b6 is 13232 characters long after preprocessing, where the maximum length should be 10000. Something might be wrong with the splitting, check the document affected to prevent issues at query time.\n",
      "Document b0d87ee3f82b928cab74cc3b5c136e39 is 13345 characters long after preprocessing, where the maximum length should be 10000. Something might be wrong with the splitting, check the document affected to prevent issues at query time.\n",
      "Document aed84eca3c4326ee7b439f8e32df47e6 is 10403 characters long after preprocessing, where the maximum length should be 10000. Something might be wrong with the splitting, check the document affected to prevent issues at query time.\n",
      "Document d39492ebfc3e037343471d0cd1730554 is 18053 characters long after preprocessing, where the maximum length should be 10000. Something might be wrong with the splitting, check the document affected to prevent issues at query time.\n",
      "Document 1ae2a2bf9eca8aa9f246a3ef3293f119 is 11501 characters long after preprocessing, where the maximum length should be 10000. Something might be wrong with the splitting, check the document affected to prevent issues at query time.\n",
      "Document 1b09147afbcc69d994ba6b47a65ccb72 is 13085 characters long after preprocessing, where the maximum length should be 10000. Something might be wrong with the splitting, check the document affected to prevent issues at query time.\n",
      "Document 9e73daea955f5983e2f836e28e9f888b is 20160 characters long after preprocessing, where the maximum length should be 10000. Something might be wrong with the splitting, check the document affected to prevent issues at query time.\n",
      "Document 43de5d0b25824159f2927eb1163b39a7 is 15686 characters long after preprocessing, where the maximum length should be 10000. Something might be wrong with the splitting, check the document affected to prevent issues at query time.\n",
      "Document 17e807efb623895f58a5a315dd29cb8f is 20364 characters long after preprocessing, where the maximum length should be 10000. Something might be wrong with the splitting, check the document affected to prevent issues at query time.\n",
      "Document 9ebe2b0a6d8c294ea0e4dffc3fc0ef7 is 12580 characters long after preprocessing, where the maximum length should be 10000. Something might be wrong with the splitting, check the document affected to prevent issues at query time.\n",
      "Document d324f6cfbd25d7e14ad92111b36818fa is 11732 characters long after preprocessing, where the maximum length should be 10000. Something might be wrong with the splitting, check the document affected to prevent issues at query time.\n"
     ]
    },
    {
     "data": {
      "text/plain": [
       "7129"
      ]
     },
     "execution_count": 6,
     "metadata": {},
     "output_type": "execute_result"
    }
   ],
   "source": [
    "from haystack.nodes import PreProcessor\n",
    "\n",
    "processor = PreProcessor(\n",
    "    clean_empty_lines=True,\n",
    "    clean_whitespace=True,\n",
    "    clean_header_footer=True,\n",
    "    split_by=\"word\",\n",
    "    split_length=512,\n",
    "    split_respect_sentence_boundary=True,\n",
    "    split_overlap=0\n",
    ")\n",
    "\n",
    "passages = processor.process(docs)\n",
    "len(passages)"
   ]
  },
  {
   "cell_type": "code",
   "execution_count": 7,
   "metadata": {},
   "outputs": [
    {
     "name": "stdout",
     "output_type": "stream",
     "text": [
      "import numpy as np\n",
      "import tensorflow as tf\n",
      "from tensorflow import keras\n",
      "import pandas as pd\n",
      "import seaborn as sns\n",
      "from pylab import rcParams\n",
      "import matplotlib.pyplot as plt\n",
      "from matplotlib import rc\n",
      "from pandas.plotting import register_matplotlib_converters\n",
      "\n",
      "register_matplotlib_converters()\n",
      "sns.set(style='whitegrid', palette='muted', font_scale=1.5)\n",
      "\n",
      "rcParams['figure.figsize'] = 22, 10\n",
      "\n",
      "RANDOM_SEED = 42\n",
      "\n",
      "np.random.seed(RANDOM_SEED)\n",
      "tf.random.set_seed(RANDOM_SEED)\n",
      "df = pd.read_csv('spx.csv', parse_dates=['date'], index_col='date')\n",
      "df.head()\n",
      "plt.plot(df, label='close price')\n",
      "plt.legend();\n",
      "train_size = int(len(df) * 0.95)\n",
      "test_size = len(df) - train_size\n",
      "train, test = df.iloc[0:train_size], df.iloc[train_size:len(df)]\n",
      "print(train.shape, test.shape)\n",
      "from sklearn.preprocessing import StandardScaler\n",
      "\n",
      "scaler = StandardScaler()\n",
      "scaler = scaler.fit(train[['close']])\n",
      "\n",
      "train['close'] = scaler.transform(train[['close']])\n",
      "test['close'] = scaler.transform(test[['close']])\n",
      "def create_dataset(X, y, time_steps=1):\n",
      "Xs, ys = [], []\n",
      "for i in range(len(X) - time_steps):\n",
      "v = X.iloc[i:(i + time_steps)].values\n",
      "Xs.append(v)\n",
      "ys.append(y.iloc[i + time_steps])\n",
      "return np.array(Xs), np.array(ys)\n",
      "TIME_STEPS = 30\n",
      "\n",
      "# reshape to [samples, time_steps, n_features]\n",
      "\n",
      "X_train, y_train = create_dataset(train[['close']], train.close, TIME_STEPS)\n",
      "X_test, y_test = create_dataset(test[['close']], test.close, TIME_STEPS)\n",
      "\n",
      "print(X_train.shape)\n",
      "model = keras.Sequential()\n",
      "model.add(keras.layers.LSTM(\n",
      "units=64,\n",
      "input_shape=(X_train.shape[1], X_train.shape[2])\n",
      "))\n",
      "model.add(keras.layers.Dropout(rate=0.2))\n",
      "model.add(keras.layers.RepeatVector(n=X_train.shape[1]))\n",
      "model.add(keras.layers.LSTM(units=64, return_sequences=True))\n",
      "model.add(keras.layers.Dropout(rate=0.2))\n",
      "model.add(keras.layers.TimeDistributed(keras.layers.Dense(units=X_train.shape[2])))\n",
      "model.compile(loss='mae', optimizer='adam')\n",
      "history = model.fit(\n",
      "X_train, y_train,\n",
      "epochs=10,\n",
      "batch_size=32,\n",
      "validation_split=0.1,\n",
      "shuffle=False\n",
      ")\n",
      "plt.plot(history.history['loss'], label='train')\n",
      "plt.plot(history.history['val_loss'], label='test')\n",
      "plt.legend();\n",
      "X_train_pred = model.predict(X_train)\n",
      "\n",
      "train_mae_loss = np.mean(np.abs(X_train_pred - X_train), axis=1)\n",
      "sns.distplot(train_mae_loss, bins=50, kde=True);\n",
      "X_test_pred = model.predict(X_test)\n",
      "\n",
      "test_mae_loss = np.mean(np.abs(X_test_pred - X_test), axis=1)\n",
      "THRESHOLD = 0.65\n",
      "\n",
      "test_score_df = pd.DataFrame(index=test[TIME_STEPS:].index)\n",
      "test_score_df['loss'] = test_mae_loss\n",
      "test_score_df['threshold'] = THRESHOLD\n",
      "test_score_df['anomaly'] = test_score_df.loss > test_score_df.threshold\n",
      "test_score_df['close'] = test[TIME_STEPS:].close\n",
      "plt.plot(test_score_df.index, test_score_df.loss, label='loss')\n",
      "plt.plot(test_score_df.index, test_score_df.threshold, label='threshold')\n",
      "plt.xticks(rotation=25)\n",
      "plt.legend();\n",
      "anomalies = test_score_df[test_score_df.anomaly == True]\n",
      "anomalies.head()\n",
      "plt.plot(\n",
      "test[TIME_STEPS:].index,\n",
      "scaler.inverse_transform(test[TIME_STEPS:].close),\n",
      "label='close price'\n",
      ");\n",
      "\n",
      "sns.scatterplot(\n",
      "anomalies.index,\n",
      "scaler.inverse_transform(anomalies.close),\n",
      "color=sns.color_palette()[3],\n",
      "s=52,\n",
      "label='anomaly'\n",
      ")\n",
      "plt.xticks(rotation=25)\n",
      "plt.legend();\n"
     ]
    }
   ],
   "source": [
    "print(passages[487].content)"
   ]
  },
  {
   "attachments": {},
   "cell_type": "markdown",
   "metadata": {},
   "source": [
    "## Write documents"
   ]
  },
  {
   "cell_type": "code",
   "execution_count": 15,
   "metadata": {},
   "outputs": [],
   "source": [
    "%%capture\n",
    "embedding_model = EMBEDDING_MODELS[3]\n",
    "\n",
    "# Write documents\n",
    "from haystack.document_stores import FAISSDocumentStore\n",
    "os.makedirs(f\"{FAISS_DB_DIR}/{embedding_model[0]}\", exist_ok=True)\n",
    "document_store = FAISSDocumentStore(sql_url=f\"sqlite:///{FAISS_DB_DIR}/{embedding_model[0]}/faiss_base.db\", faiss_index_factory_str = \"Flat\")\n",
    "\n",
    "for i, passage in enumerate(passages): \n",
    "    docid = passage.meta['docid']\n",
    "    passage_docid = f\"{docid}_passage{i}\"\n",
    "    index_document = {\n",
    "        \"id\": passage_docid,\n",
    "        \"content\": passage.content,\n",
    "        \"meta\": {\n",
    "            \"name\": docid,\n",
    "            \"passage_number\": i,\n",
    "        },\n",
    "    }\n",
    "    document_store.write_documents([index_document])"
   ]
  },
  {
   "cell_type": "code",
   "execution_count": 16,
   "metadata": {},
   "outputs": [
    {
     "data": {
      "text/plain": [
       "('model4', 'sentence-transformers/all-mpnet-base-v2')"
      ]
     },
     "execution_count": 16,
     "metadata": {},
     "output_type": "execute_result"
    }
   ],
   "source": [
    "embedding_model"
   ]
  },
  {
   "cell_type": "code",
   "execution_count": 17,
   "metadata": {},
   "outputs": [
    {
     "data": {
      "text/plain": [
       "7129"
      ]
     },
     "execution_count": 17,
     "metadata": {},
     "output_type": "execute_result"
    }
   ],
   "source": [
    "document_store.get_document_count()"
   ]
  },
  {
   "cell_type": "code",
   "execution_count": 18,
   "metadata": {},
   "outputs": [
    {
     "data": {
      "text/plain": [
       "0"
      ]
     },
     "execution_count": 18,
     "metadata": {},
     "output_type": "execute_result"
    }
   ],
   "source": [
    "document_store.get_embedding_count()\n"
   ]
  },
  {
   "attachments": {},
   "cell_type": "markdown",
   "metadata": {},
   "source": [
    "## Write embeddings"
   ]
  },
  {
   "cell_type": "code",
   "execution_count": 19,
   "metadata": {},
   "outputs": [],
   "source": [
    "# Update embeddings\n",
    "from haystack.nodes import EmbeddingRetriever\n",
    "\n",
    "def update_index(document_store, embedding_model):\n",
    "    retriever = EmbeddingRetriever(\n",
    "        document_store=document_store,\n",
    "        embedding_model=embedding_model[1],\n",
    "    )\n",
    "    # Important:\n",
    "    # Now that we initialized the Retriever, we need to call update_embeddings() to iterate over all\n",
    "    # previously indexed documents and update their embedding representation.\n",
    "    # While this can be a time consuming operation (depending on the corpus size), it only needs to be done once.\n",
    "    # At query time, we only need to embed the query and compare it to the existing document embeddings, which is very fast.\n",
    "    document_store.update_embeddings(retriever)\n",
    "\n",
    "    # Save the document store:\n",
    "    index_path=f\"{FAISS_INDEX_DIR}/{embedding_model[0]}/index.faiss\"\n",
    "    config_path=f\"{FAISS_INDEX_DIR}/{embedding_model[0]}/config.json\"\n",
    "    os.makedirs(f\"{FAISS_INDEX_DIR}/{embedding_model[0]}\", exist_ok=True)\n",
    "    \n",
    "    document_store.save(index_path=index_path, config_path=config_path)\n",
    "    print(f\"Save index to {index_path}\")\n"
   ]
  },
  {
   "cell_type": "code",
   "execution_count": 20,
   "metadata": {},
   "outputs": [
    {
     "data": {
      "application/vnd.jupyter.widget-view+json": {
       "model_id": "bf9a6f3807bd4ef4b99cb23d557e8e39",
       "version_major": 2,
       "version_minor": 0
      },
      "text/plain": [
       "Updating Embedding:   0%|          | 0/7129 [00:00<?, ? docs/s]"
      ]
     },
     "metadata": {},
     "output_type": "display_data"
    },
    {
     "data": {
      "application/vnd.jupyter.widget-view+json": {
       "model_id": "3a4198130c904faa8610cda68fcaf1f3",
       "version_major": 2,
       "version_minor": 0
      },
      "text/plain": [
       "Batches:   0%|          | 0/223 [00:00<?, ?it/s]"
      ]
     },
     "metadata": {},
     "output_type": "display_data"
    },
    {
     "name": "stdout",
     "output_type": "stream",
     "text": [
      "Save index to ./code_faiss_indexes_512/model4/index.faiss\n"
     ]
    }
   ],
   "source": [
    "update_index(document_store, embedding_model)"
   ]
  },
  {
   "cell_type": "code",
   "execution_count": 21,
   "metadata": {},
   "outputs": [
    {
     "data": {
      "text/plain": [
       "(7129, 7129)"
      ]
     },
     "execution_count": 21,
     "metadata": {},
     "output_type": "execute_result"
    }
   ],
   "source": [
    "document_store.get_document_count(), document_store.get_embedding_count()"
   ]
  },
  {
   "attachments": {},
   "cell_type": "markdown",
   "metadata": {},
   "source": [
    "## Load index"
   ]
  },
  {
   "cell_type": "code",
   "execution_count": 4,
   "metadata": {},
   "outputs": [],
   "source": [
    "embedding_model = EMBEDDING_MODELS[1]"
   ]
  },
  {
   "cell_type": "code",
   "execution_count": 5,
   "metadata": {},
   "outputs": [
    {
     "name": "stderr",
     "output_type": "stream",
     "text": [
      "/home/na/miniconda3/envs/vre/lib/python3.8/site-packages/torch/cuda/__init__.py:546: UserWarning: Can't initialize NVML\n",
      "  warnings.warn(\"Can't initialize NVML\")\n"
     ]
    }
   ],
   "source": [
    "# Load index\n",
    "from haystack.document_stores import FAISSDocumentStore\n",
    "index_path=f\"{FAISS_INDEX_DIR}/{embedding_model[0]}/index.faiss\"\n",
    "config_path=f\"{FAISS_INDEX_DIR}/{embedding_model[0]}/config.json\"\n",
    "document_store = FAISSDocumentStore.load(index_path=index_path, config_path=config_path)\n",
    "\n",
    "# Check if the DocumentStore is loaded correctly\n",
    "assert document_store.faiss_index_factory_str == \"Flat\""
   ]
  },
  {
   "cell_type": "code",
   "execution_count": 6,
   "metadata": {},
   "outputs": [
    {
     "data": {
      "text/plain": [
       "7129"
      ]
     },
     "execution_count": 6,
     "metadata": {},
     "output_type": "execute_result"
    }
   ],
   "source": [
    "# document_store.get_document_count()\n",
    "document_store.get_embedding_count()"
   ]
  },
  {
   "cell_type": "code",
   "execution_count": null,
   "metadata": {},
   "outputs": [],
   "source": []
  }
 ],
 "metadata": {
  "kernelspec": {
   "display_name": "vre",
   "language": "python",
   "name": "python3"
  },
  "language_info": {
   "codemirror_mode": {
    "name": "ipython",
    "version": 3
   },
   "file_extension": ".py",
   "mimetype": "text/x-python",
   "name": "python",
   "nbconvert_exporter": "python",
   "pygments_lexer": "ipython3",
   "version": "3.8.16"
  },
  "orig_nbformat": 4
 },
 "nbformat": 4,
 "nbformat_minor": 2
}
