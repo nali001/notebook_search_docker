{
 "cells": [
  {
   "attachments": {},
   "cell_type": "markdown",
   "metadata": {},
   "source": [
    "# Model fusion\n",
    "$S_{fusion} = w_1 * S_{dense} + w_2 * S_{sparse}$"
   ]
  },
  {
   "cell_type": "code",
   "execution_count": 8,
   "metadata": {},
   "outputs": [],
   "source": [
    "BM25_RESULT_DIR = '../data/evaluation/results/evaluation_queries/text_code/bm25'\n",
    "MODEL1_RESULT_DIR = '../data/evaluation/results/evaluation_queries/text_code/model1'\n",
    "MODEL2_RESULT_DIR = '../data/evaluation/results/evaluation_queries/text_code/model2'\n",
    "# FUSION_RESULT_DIR = '../data/evaluation/results/evaluation_queries/fusion/bm25_model2'\n",
    "# FUSION_RESULT_DIR = '../data/evaluation/results/evaluation_queries/fusion/bm25_model1'\n",
    "FUSION_RESULT_DIR = '../data/evaluation/results/evaluation_queries/fusion/model1_model2'\n"
   ]
  },
  {
   "cell_type": "code",
   "execution_count": 9,
   "metadata": {},
   "outputs": [],
   "source": [
    "import os\n",
    "import json\n",
    "\n",
    "# Directory paths containing the ranking results from each model\n",
    "directory_model1 = MODEL2_RESULT_DIR\n",
    "directory_model2 = MODEL1_RESULT_DIR\n",
    "output_dir = FUSION_RESULT_DIR\n",
    "os.makedirs(output_dir, exist_ok=True)\n",
    "\n",
    "# Assign weights to each model's rankings\n",
    "w1 = 1\n",
    "w2 = 1\n",
    "\n",
    "# Iterate through the JSON files in both directories\n",
    "for filename in os.listdir(directory_model1):\n",
    "    if filename.endswith('.json'):\n",
    "        file_path_model1 = os.path.join(directory_model1, filename)\n",
    "        query_id = os.path.splitext(filename)[0]  # Extract the query ID from the filename\n",
    "\n",
    "        # Load the ranking results from Model 1\n",
    "        with open(file_path_model1, 'r') as file:\n",
    "            ranking_model1 = json.load(file)\n",
    "\n",
    "        # Load the corresponding JSON file from Model 2\n",
    "        file_path_model2 = os.path.join(directory_model2, filename)\n",
    "        with open(file_path_model2, 'r') as file:\n",
    "            ranking_model2 = json.load(file)\n",
    "\n",
    "        # Extract the document lists from both rankings\n",
    "        docs_model1 = ranking_model1['docs']\n",
    "        docs_model2 = ranking_model2['docs']\n",
    "\n",
    "        fused_docs = []\n",
    "\n",
    "        # Fuse the ranking results for the query\n",
    "        for item1 in docs_model1:\n",
    "            docid = item1['docid']\n",
    "            score_model1 = item1['score']\n",
    "            for item2 in docs_model2:\n",
    "                if item2['docid'] == docid: \n",
    "                    score_model2 = item2['score']\n",
    "                else: \n",
    "                    continue\n",
    "            if score_model1 and score_model2: \n",
    "                fused_score = w1 * score_model1 + w2 * score_model2\n",
    "                fused_docs.append({\n",
    "                    'docid': docid,\n",
    "                    'score': fused_score\n",
    "                })\n",
    "\n",
    "        # Sort the fused documents based on the fused scores in descending order\n",
    "        fused_docs = sorted(fused_docs, key=lambda x: x['score'], reverse=True)\n",
    "\n",
    "        fused_ranking = {\n",
    "            'qid': query_id,\n",
    "            'docs': fused_docs\n",
    "        }\n",
    "\n",
    "        # Output the fused ranking results to a JSON file\n",
    "        output_path = f'{output_dir}/{query_id}.json'\n",
    "\n",
    "        with open(output_path, 'w') as output_file:\n",
    "            json.dump(fused_ranking, output_file, indent=4)\n"
   ]
  },
  {
   "cell_type": "code",
   "execution_count": null,
   "metadata": {},
   "outputs": [],
   "source": []
  }
 ],
 "metadata": {
  "kernelspec": {
   "display_name": "vre",
   "language": "python",
   "name": "python3"
  },
  "language_info": {
   "codemirror_mode": {
    "name": "ipython",
    "version": 3
   },
   "file_extension": ".py",
   "mimetype": "text/x-python",
   "name": "python",
   "nbconvert_exporter": "python",
   "pygments_lexer": "ipython3",
   "version": "3.8.16"
  },
  "orig_nbformat": 4
 },
 "nbformat": 4,
 "nbformat_minor": 2
}
